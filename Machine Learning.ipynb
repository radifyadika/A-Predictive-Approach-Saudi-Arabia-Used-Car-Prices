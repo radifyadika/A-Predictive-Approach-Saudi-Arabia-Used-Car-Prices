{
  "cells": [
    {
      "cell_type": "markdown",
      "metadata": {
        "id": "KWVH0Aeox6De"
      },
      "source": [
        "# Saudi Arabia Used Cars"
      ]
    },
    {
      "cell_type": "markdown",
      "metadata": {
        "id": "yCQ2QkoHx6Dh"
      },
      "source": [
        "**[Source : Saudi Arabia Used Cars](https://www.kaggle.com/turkibintalib/saudi-arabia-used-cars-dataset?select=UsedCarsSA_Unclean_EN.csv)*\n",
        "\n",
        "### **Contents**\n",
        "\n",
        "1. Business Problem\n",
        "2. Feature Engineering\n",
        "3. Modeling\n",
        "4. Conclusion\n",
        "5. Recommendation\n",
        "\n",
        "****"
      ]
    },
    {
      "cell_type": "markdown",
      "metadata": {
        "id": "QRHQbud6x6Dh"
      },
      "source": [
        "## 1. Business Problem"
      ]
    },
    {
      "cell_type": "markdown",
      "metadata": {
        "id": "f2sXfVwHx6Di"
      },
      "source": [
        "The used car business is a growing sector that is expected to attract more public attention in the near future. The used car business has a very competitive market, as there is an opportunity to earn greater income by investing lower capital. This business requires skills and knowledge about cars. Business owners get quality cars, fix them up, and sell them for a higher price.\n",
        "\n",
        "Over the last decade, there has been a consistent increase in the used car industry as car usage increases in Saudi Arabia.\n",
        "According to a recent demographic survey conducted by the General Authority of Statistics in Saudi Arabia, most families own at least 2 cars. Used cars attract more attention because they are more affordable than new ones. Buying or selling a used car can be a difficult task, especially when determining the best market price. Many people are unaware of market trends and need a reliable and intelligent method to provide price estimates based on existing market data.\n",
        "\n",
        "In this step, we get challenges and issues faced by a business. These may prevent a business from executing strategy and achieving goals. In some cases, business problems also threaten the long term survival of a firm."
      ]
    },
    {
      "cell_type": "markdown",
      "metadata": {
        "id": "Ad10n-Apx6Di"
      },
      "source": [
        "### Context\n",
        "The used car business is a growing sector that is expected to attract more public attention in the near future. The used car business has a very competitive market, as there is an opportunity to earn greater income by investing lower capital. This business requires skills and knowledge about cars. Business owners get quality cars, fix them up, and sell them for a higher price.\n",
        "\n",
        "Over the past decade, there has been a consistent increase in the used car industry as car usage increases in Saudi Arabia.\n",
        "According to a recent demographic survey conducted by the General Authority of Statistics in Saudi Arabia, most families own at least 2 cars. Used cars attract more attention because they are more affordable than new ones. Buying or selling a used car can be a difficult task, especially when determining the best market price. Many people are unaware of market trends and need a reliable and intelligent method to provide price estimates based on existing market data."
      ]
    },
    {
      "cell_type": "markdown",
      "metadata": {
        "id": "feBGMuw-x6Di"
      },
      "source": [
        "### Problem Statement\n",
        "\n",
        "One of the biggest challenges in the used car business is predicting used car prices for users who are interested in buying or selling their cars according to market trends. Apart from that, determining the price of a used car based on brand, engine type, year, etc. requires a professional who understands the condition and correct price scheme for used cars from previous experience. This situation demands a model that can provide estimates of used car prices based on historical data.\n",
        "\n",
        "This will make things easier for buyers by telling them whether the car is excellent, good, or bad. On the other hand, it can provide used car businesses with an estimated price of the car they want to sell based on market data, and will also let them know if this price is negotiable."
      ]
    },
    {
      "cell_type": "markdown",
      "metadata": {},
      "source": [
        "## Stakeholder\n",
        "\n",
        "The stakeholders for this project can be defined to these 3 major group :\n",
        "\n",
        "1. Car Sellers\n",
        "   - Pain Point : Difficulty in determining the right selling price for their used vehicles.\n",
        "   - Benefit : A reliable estimate based on market trends and vehicle specifications to help price their car competitively and fairly.\n",
        "\n",
        "2. Car Buyers\n",
        "   - Pain Point : Lack of transparency in market prices, often resulting in overpaying or missing better deals.\n",
        "   - Benefit : Trustworthy predictions that enable them to make informed decisions when negotiating or searching for cars within their budget.\n",
        "\n",
        "3. Used Car Dealerships\n",
        "   - Pain Point : The need for quick, accurate appraisals to stay competitive in the market.\n",
        "   - Benefit : Access to a tool that offers fast, reliable price estimates, allowing them to adjust their listings or offer competitive buy prices to sellers."
      ]
    },
    {
      "cell_type": "markdown",
      "metadata": {
        "id": "akJ9Igh3x6Dj"
      },
      "source": [
        "### Goals\n",
        "\n",
        "Based on the problems above, the used car industry needs a 'tool' that can predict used car prices that are suitable and reliable for users to buy or sell used cars based on details such as car model and mileage. If someone has a car they want to sell, then we can provide a price estimate based on market trends and car specifications to make it easier for users to avoid the difficulty of determining the appropriate price."
      ]
    },
    {
      "cell_type": "markdown",
      "metadata": {},
      "source": [
        "## Project Limitation\n",
        "\n",
        "In developing a reliable used car price prediction tool, it’s essential to apply certain limitations to the dataset. These limitations help ensure the accuracy, relevance, and reliability of the predictions. Below, we outline key considerations and explain why specific thresholds and exclusions are necessary.\n",
        "\n",
        "1. Year Threshold: Focusing on Current Trends\n",
        "\n",
        "**Why Apply a Year Threshold?**\n",
        "To maintain the accuracy and relevance of the tool, we’ve chosen to exclude older vehicles from the analysis. This decision is based on several factors:\n",
        "\n",
        "- Market Relevance: Older cars, particularly those manufactured over 20-30 years ago, no longer represent the core of today’s used car market. Buyers and sellers are generally more interested in cars that reflect **modern features, technologies, and consumer preferences**.\n",
        "  \n",
        "- Current Market Trends: The used car market evolves rapidly, and older vehicles may not align with the latest **pricing patterns** or **buyer demand**. By focusing on more recent cars, the tool can provide estimates that are more in tune with contemporary buying and selling behavior.\n",
        "\n",
        "- Avoiding Outliers and Noise: Vehicles that are too old often introduce **price variability** due to factors such as rarity, extensive wear, or vintage status. These cars tend to behave as **outliers**, either priced unusually high (in the case of classic cars) or extremely low due to depreciation and high maintenance costs. This inconsistency can distort the accuracy of predictions for mainstream vehicles.\n",
        "\n",
        "- Data Consistency**: Excluding older vehicles helps create a **more consistent dataset**. Cars built several decades ago may have significantly different attributes (e.g., safety features, engine technology, design) that complicate analysis and make comparison with modern cars less meaningful.\n",
        "\n",
        "**Year Threshold Application:**\n",
        "For the purposes of this tool, we exclude vehicles manufactured before the year **2000**. This cutoff ensures that the dataset reflects cars with more modern technology, features, and market dynamics, leading to more accurate and relevant predictions for users.\n",
        "\n",
        "2. Price Threshold: Removing Unrealistic Data Points\n",
        "\n",
        "**Why Set a Price Floor?**\n",
        "Based on our research, it’s not realistic to find cars priced below **Rp 20,535,000** in the [used car market](https://ksa.yallamotor.com/used-cars/pr_1000_10000?page=2&sort=updated_desc), it's seems not realistic to sell an used cars less that Rp 20,535,000. Including these vehicles in the dataset could skew the analysis and produce unreliable predictions.\n",
        "\n",
        "- Market Feasibility: In many cases, cars priced below this threshold are in poor condition or require extensive repairs, making them outliers in terms of **pricing**. These extreme cases can distort the overall trend in the market, leading to **misleading predictions**.\n",
        "\n",
        "- Accuracy of Estimates: By removing cars below this price point, the model focuses on vehicles that are likely to be of interest to the majority of buyers and sellers. This increases the likelihood that price predictions are reliable and applicable to actual market conditions.\n",
        "\n",
        "**Price Threshold Application:**\n",
        "We exclude all cars priced below **Rp 20,535,000** to ensure the dataset reflects realistic and actionable price points for users who are actively buying or selling used cars.\n",
        "\n",
        "3. Mileage Threshold: Ensuring Data Consistency\n",
        "\n",
        "**Why Apply a Mileage Cap?**\n",
        "Mileage is a key factor in determining the price of a used car. However, vehicles with extremely high mileage (e.g., above **700,000 km**) are rare, and their inclusion in the dataset could introduce **skewed data**. These cars may exhibit abnormal depreciation patterns or require substantial repairs, making them less relevant for typical buyers and sellers.\n",
        "\n",
        "- Outlier Detection: Cars with extremely high mileage behave as **outliers** in the dataset, often priced lower due to wear and tear or needing significant repairs. Including such cars would distort the overall price predictions and reduce the reliability of the tool.\n",
        "  \n",
        "- Consistency in Price Predictions: Excluding high-mileage vehicles ensures that price predictions are based on cars that reflect typical usage patterns, leading to more **reliable and consistent estimates**.\n",
        "\n",
        "**Mileage Threshold Application:**\n",
        "The model excludes all cars with a mileage exceeding **700,000 km** to maintain consistency and avoid outliers that could distort predictions.\n",
        "\n",
        "**Summary of Key Thresholds:**\n",
        "- **Year Threshold**: Cars manufactured before **2000** are excluded to focus on vehicles relevant to current market trends.\n",
        "- **Price Threshold**: Cars priced below **Rp 20,535,000** are excluded to remove unrealistic and irrelevant data points.\n",
        "- **Mileage Threshold**: Cars with more than **700,000 km** of mileage are excluded to prevent skewed data from outliers.\n",
        "\n",
        "**Conclusion: Enhancing Prediction Accuracy and Relevance**\n",
        "These limitations have been carefully applied to ensure the tool remains **reliable, accurate, and relevant** for today’s used car market. By focusing on cars that reflect modern trends, avoiding outliers, and maintaining data consistency, the tool will provide **actionable insights** and **trustworthy price predictions** for both buyers and sellers. The goal is to help users make informed decisions in a market that can otherwise be complex and difficult to navigate.\n"
      ]
    },
    {
      "cell_type": "markdown",
      "metadata": {
        "id": "uySPPEbzx6Dj"
      },
      "source": [
        "### Analytic Approach\n",
        "\n",
        "So, what we need to do is analyze the data to find patterns in the existing features, which differentiate one feature from another.\n",
        "\n",
        "Next, we will build a regression model that will help users to get a file car price prediction 'tool' which aims to avoid *overpriced* or *underpriced* used car prices."
      ]
    },
    {
      "cell_type": "markdown",
      "metadata": {
        "id": "1n7OaV5jx6Dk"
      },
      "source": [
        "### Analytic Question\n",
        "\n",
        "1. Price Analysis:\n",
        "\n",
        "  - What is the average price of cars in each region ?\n",
        "  - How does the price of cars vary by make (e.g., Toyota vs. GMC) ?\n",
        "  - Which Make Brand has the highest price ?\n",
        "\n",
        "2. Mileage Analysis:\n",
        "\n",
        "  - What is the relationship between the year of the car and its mileage ?\n",
        "  - How does mileage impact the price of the car ?\n",
        "  - What is the average mileage by car type and make ?\n",
        "\n",
        "3. Engine Size Impact:\n",
        "\n",
        "  - How does engine size correlate with car price ?\n",
        "  - Does a larger engine size typically mean higher mileage ?\n",
        "\n",
        "4. Transmission & Negotiability:\n",
        "\n",
        "  - How do prices differ between manual and automatic transmission cars ?, are manual transmission cars more likely to have negotiable prices compared to automatic cars ?\n",
        "\n",
        "5. Regional Trends:\n",
        "\n",
        "  - What are the most popular car makes and types in different regions ?\n",
        "  - How does the price of cars vary across regions for the same make and model ?\n",
        "\n",
        "6. Age of the Car:\n",
        "\n",
        "  - How does the age of the car (based on the year) affect its price and is there a significant price drop for cars of a certain age ?\n",
        "\n",
        "7. Options & Pricing:\n",
        "\n",
        "  - Does having more features (e.g., full vs. semi-full options) significantly impact the car price ?"
      ]
    },
    {
      "cell_type": "markdown",
      "metadata": {
        "id": "NkX0hAJOx6Dk"
      },
      "source": [
        "### Evaluation Metric\n",
        "\n",
        "Evaluation metric that will be used in this model are MSE (Mean Squared Error), RMSE (Root of Mean Squared Error) cause (the value is usually interpreted as either how far (on average) the residuals are from zero or as the average distance between the observed values and the model predictions) and R-squared (persentage) as a value of the prediction model.\n",
        "\n",
        "**We prioritize using MAPE (Mean Absolute Percentage Error)** as the primary evaluation metric to ensure fair and inclusive price predictions for sellers and buyers in the Saudi Arabian market. While RMSE, MAE, and RMSLE are also important, our focus is on keeping MAPE as low as possible, ensuring that the model delivers fair predictions based on percentage errors rather than just absolute differences.\n",
        "\n",
        "**For example**, if MAPE indicates a **5% error**, this means the predicted price of a car is, on average, off by 5% from the actual price, either above or below. This gives sellers and buyers more confidence that price predictions won’t be too high (overprice) or too low (underprice), leading to fairer transactions. --> **[Source](https://www.indeed.com/career-advice/career-development/what-is-mape)**"
      ]
    },
    {
      "cell_type": "markdown",
      "metadata": {},
      "source": [
        "## When Will This Model Be Used?\n",
        "\n",
        "The model can be applied in several scenarios within the used car market to provide reliable price predictions for various stakeholders:\n",
        "\n",
        "1. **For Sellers Determining a Listing Price**\n",
        "   - **Scenario**: A car owner wants to sell their vehicle and is unsure of the appropriate price.\n",
        "   - **How the Model Helps**: The seller can input their car’s details (e.g., make, model, mileage, year, and condition) into the tool, which will provide a reliable price estimate based on current market trends and similar cars. This helps sellers avoid underpricing or overpricing their vehicle, making the selling process smoother and faster.\n",
        "\n",
        "2. **For Buyers Negotiating or Evaluating a Purchase**\n",
        "   - **Scenario**: A buyer is considering purchasing a used car and wants to verify whether the asking price is fair.\n",
        "   - **How the Model Helps**: By inputting the car’s details into the tool, the buyer can get a price prediction that reflects the current market value of the car. This allows them to negotiate confidently or seek alternative options if the price is too high.\n",
        "\n",
        "3. **For Dealerships Setting Competitive Prices**\n",
        "   - **Scenario**: A used car dealership needs to set prices for their inventory or make offers to people looking to sell their cars.\n",
        "   - **How the Model Helps**: Dealerships can quickly assess the value of the cars in their inventory using the tool, ensuring that their pricing aligns with market trends. This can help them stay competitive and attract more customers.\n",
        "\n",
        "**General Use Cases**\n",
        "   - **Pre-Sale Evaluations**: Before posting a car for sale on platforms like OLX or other used car websites, sellers can use the model to evaluate a fair listing price.\n",
        "   - **In-Person Transactions**: Buyers and sellers meeting in person for a private sale can use the model as an impartial reference point for price negotiations.\n",
        "   - **Market Research**: Companies and researchers can use the model to generate reports on market behavior, car depreciation rates, and price fluctuations across different models and time periods.\n",
        "\n",
        "### Conclusion:\n",
        "The model can be applied in a variety of real-world scenarios, helping stakeholders across the used car industry—from private buyers and sellers to dealerships and financial institutions—make informed and transparent pricing decisions.\n"
      ]
    },
    {
      "cell_type": "markdown",
      "metadata": {
        "id": "29Rloj92x6Dk"
      },
      "source": [
        "****"
      ]
    },
    {
      "cell_type": "markdown",
      "metadata": {
        "id": "SQn6Vv0sx6EJ"
      },
      "source": [
        "## 2. Feature Engineering"
      ]
    },
    {
      "cell_type": "code",
      "execution_count": 64,
      "metadata": {},
      "outputs": [],
      "source": [
        "import pandas as pd"
      ]
    },
    {
      "cell_type": "code",
      "execution_count": 65,
      "metadata": {},
      "outputs": [],
      "source": [
        "# Import the datasets\n",
        "df_model = pd.read_csv('Dataframe.csv')"
      ]
    },
    {
      "cell_type": "markdown",
      "metadata": {
        "id": "oD7EKFC6x6EJ"
      },
      "source": [
        "Feature engineering is a machine learning technique that leverages data to create new variables that aren't in the training set. It can produce new features or not, with the goal of simplifying and speeding up data transformations while also enhancing model accuracy."
      ]
    },
    {
      "cell_type": "code",
      "execution_count": 66,
      "metadata": {
        "id": "8MBVHPtCx6EJ"
      },
      "outputs": [],
      "source": [
        "#Select the necessary data on dataset\n",
        "df_fe = df_model[['Make','Year', 'Options','Engine_Size','Gear_Type', 'Mileage', 'Price_Clean']]"
      ]
    },
    {
      "cell_type": "code",
      "execution_count": 67,
      "metadata": {
        "id": "1Lsl6csmx6EJ",
        "outputId": "94df6066-2534-48e6-e6f4-e87665edb90b"
      },
      "outputs": [
        {
          "data": {
            "text/html": [
              "<div>\n",
              "<style scoped>\n",
              "    .dataframe tbody tr th:only-of-type {\n",
              "        vertical-align: middle;\n",
              "    }\n",
              "\n",
              "    .dataframe tbody tr th {\n",
              "        vertical-align: top;\n",
              "    }\n",
              "\n",
              "    .dataframe thead th {\n",
              "        text-align: right;\n",
              "    }\n",
              "</style>\n",
              "<table border=\"1\" class=\"dataframe\">\n",
              "  <thead>\n",
              "    <tr style=\"text-align: right;\">\n",
              "      <th></th>\n",
              "      <th>Make</th>\n",
              "      <th>Year</th>\n",
              "      <th>Options</th>\n",
              "      <th>Engine_Size</th>\n",
              "      <th>Gear_Type</th>\n",
              "      <th>Mileage</th>\n",
              "      <th>Price_Clean</th>\n",
              "    </tr>\n",
              "  </thead>\n",
              "  <tbody>\n",
              "    <tr>\n",
              "      <th>0</th>\n",
              "      <td>Mercedes</td>\n",
              "      <td>2021</td>\n",
              "      <td>Full</td>\n",
              "      <td>5.0</td>\n",
              "      <td>Automatic</td>\n",
              "      <td>5000</td>\n",
              "      <td>4.723050e+09</td>\n",
              "    </tr>\n",
              "    <tr>\n",
              "      <th>1</th>\n",
              "      <td>Bentley</td>\n",
              "      <td>2019</td>\n",
              "      <td>Full</td>\n",
              "      <td>6.0</td>\n",
              "      <td>Automatic</td>\n",
              "      <td>13000</td>\n",
              "      <td>3.490950e+09</td>\n",
              "    </tr>\n",
              "    <tr>\n",
              "      <th>2</th>\n",
              "      <td>Mercedes</td>\n",
              "      <td>2019</td>\n",
              "      <td>Full</td>\n",
              "      <td>5.0</td>\n",
              "      <td>Automatic</td>\n",
              "      <td>60000</td>\n",
              "      <td>3.429345e+09</td>\n",
              "    </tr>\n",
              "    <tr>\n",
              "      <th>3</th>\n",
              "      <td>Mercedes</td>\n",
              "      <td>2019</td>\n",
              "      <td>Full</td>\n",
              "      <td>4.0</td>\n",
              "      <td>Automatic</td>\n",
              "      <td>39000</td>\n",
              "      <td>3.285600e+09</td>\n",
              "    </tr>\n",
              "    <tr>\n",
              "      <th>4</th>\n",
              "      <td>Bentley</td>\n",
              "      <td>2020</td>\n",
              "      <td>Standard</td>\n",
              "      <td>1.0</td>\n",
              "      <td>Automatic</td>\n",
              "      <td>300</td>\n",
              "      <td>3.172658e+09</td>\n",
              "    </tr>\n",
              "    <tr>\n",
              "      <th>...</th>\n",
              "      <td>...</td>\n",
              "      <td>...</td>\n",
              "      <td>...</td>\n",
              "      <td>...</td>\n",
              "      <td>...</td>\n",
              "      <td>...</td>\n",
              "      <td>...</td>\n",
              "    </tr>\n",
              "    <tr>\n",
              "      <th>5358</th>\n",
              "      <td>Chevrolet</td>\n",
              "      <td>2006</td>\n",
              "      <td>Standard</td>\n",
              "      <td>3.6</td>\n",
              "      <td>Automatic</td>\n",
              "      <td>380000</td>\n",
              "      <td>2.053500e+07</td>\n",
              "    </tr>\n",
              "    <tr>\n",
              "      <th>5359</th>\n",
              "      <td>Mercury</td>\n",
              "      <td>1996</td>\n",
              "      <td>Full</td>\n",
              "      <td>4.6</td>\n",
              "      <td>Automatic</td>\n",
              "      <td>500</td>\n",
              "      <td>2.053500e+07</td>\n",
              "    </tr>\n",
              "    <tr>\n",
              "      <th>5360</th>\n",
              "      <td>Ford</td>\n",
              "      <td>2003</td>\n",
              "      <td>Semi Full</td>\n",
              "      <td>5.4</td>\n",
              "      <td>Automatic</td>\n",
              "      <td>400000</td>\n",
              "      <td>2.053500e+07</td>\n",
              "    </tr>\n",
              "    <tr>\n",
              "      <th>5361</th>\n",
              "      <td>Hyundai</td>\n",
              "      <td>2005</td>\n",
              "      <td>Standard</td>\n",
              "      <td>1.5</td>\n",
              "      <td>Manual</td>\n",
              "      <td>294602</td>\n",
              "      <td>2.053500e+07</td>\n",
              "    </tr>\n",
              "    <tr>\n",
              "      <th>5362</th>\n",
              "      <td>Ford</td>\n",
              "      <td>1998</td>\n",
              "      <td>Standard</td>\n",
              "      <td>4.6</td>\n",
              "      <td>Automatic</td>\n",
              "      <td>40000</td>\n",
              "      <td>2.053500e+07</td>\n",
              "    </tr>\n",
              "  </tbody>\n",
              "</table>\n",
              "<p>5363 rows × 7 columns</p>\n",
              "</div>"
            ],
            "text/plain": [
              "           Make  Year    Options  Engine_Size  Gear_Type  Mileage  \\\n",
              "0      Mercedes  2021       Full          5.0  Automatic     5000   \n",
              "1       Bentley  2019       Full          6.0  Automatic    13000   \n",
              "2      Mercedes  2019       Full          5.0  Automatic    60000   \n",
              "3      Mercedes  2019       Full          4.0  Automatic    39000   \n",
              "4       Bentley  2020   Standard          1.0  Automatic      300   \n",
              "...         ...   ...        ...          ...        ...      ...   \n",
              "5358  Chevrolet  2006   Standard          3.6  Automatic   380000   \n",
              "5359    Mercury  1996       Full          4.6  Automatic      500   \n",
              "5360       Ford  2003  Semi Full          5.4  Automatic   400000   \n",
              "5361    Hyundai  2005   Standard          1.5     Manual   294602   \n",
              "5362       Ford  1998   Standard          4.6  Automatic    40000   \n",
              "\n",
              "       Price_Clean  \n",
              "0     4.723050e+09  \n",
              "1     3.490950e+09  \n",
              "2     3.429345e+09  \n",
              "3     3.285600e+09  \n",
              "4     3.172658e+09  \n",
              "...            ...  \n",
              "5358  2.053500e+07  \n",
              "5359  2.053500e+07  \n",
              "5360  2.053500e+07  \n",
              "5361  2.053500e+07  \n",
              "5362  2.053500e+07  \n",
              "\n",
              "[5363 rows x 7 columns]"
            ]
          },
          "execution_count": 67,
          "metadata": {},
          "output_type": "execute_result"
        }
      ],
      "source": [
        "df_fe"
      ]
    },
    {
      "cell_type": "markdown",
      "metadata": {
        "id": "7JqdUSRhx6EJ"
      },
      "source": [
        "**Encoding**\n",
        "\n",
        "Encoding is the process of putting a sequence of characters (letters, numbers, punctuation, and certain symbols) into a specialized format for processed / undertanding by other application. Since we're using categorical variable on our model, we must encode this categorical variable to numerical first so the function can processed our categorical variable."
      ]
    },
    {
      "cell_type": "code",
      "execution_count": 68,
      "metadata": {
        "id": "uJaZTHVax6EK",
        "outputId": "8c7e4b0d-d9fd-4645-b5b7-da3190e7df44"
      },
      "outputs": [
        {
          "data": {
            "text/plain": [
              "Make             57\n",
              "Year             27\n",
              "Options           3\n",
              "Engine_Size      80\n",
              "Gear_Type         2\n",
              "Mileage        1663\n",
              "Price_Clean     455\n",
              "dtype: int64"
            ]
          },
          "execution_count": 68,
          "metadata": {},
          "output_type": "execute_result"
        }
      ],
      "source": [
        "df_fe.nunique()"
      ]
    },
    {
      "cell_type": "markdown",
      "metadata": {
        "id": "HW5VmG5tx6EK"
      },
      "source": [
        "As a knowledge and based on correlation, we will encode (dummies) our categories data that have a correlation with car price such as Options, Gear_Type and Make. These features are based on our knowledge\n",
        "- A price of car really depends on Options either it Full, Semi Full or standard\n",
        "- Gear Type of car made a really impact on the price itself. Commonly, automatic car is more picey than manual type\n",
        "- As we know, a price of car depends on it brand, cause we expected that a nice brand made a value on a price\n",
        "\n",
        "Based on those reasons, we decided to made dummies on Options, Gear_Type and Make"
      ]
    },
    {
      "cell_type": "code",
      "execution_count": 69,
      "metadata": {
        "id": "aZW2e05Mx6EK",
        "outputId": "77842fac-e4c7-4c8c-bc86-7bf2fae1693c"
      },
      "outputs": [
        {
          "data": {
            "text/plain": [
              "(5363, 62)"
            ]
          },
          "execution_count": 69,
          "metadata": {},
          "output_type": "execute_result"
        }
      ],
      "source": [
        "# Dummies the variable that might have a best correlation\n",
        "cat_col = ['Options', 'Gear_Type', 'Make']\n",
        "dummies = pd.get_dummies(df_fe[cat_col])\n",
        "dummies.shape"
      ]
    },
    {
      "cell_type": "code",
      "execution_count": 70,
      "metadata": {
        "id": "UFZBGu0mx6EK",
        "outputId": "76203cc0-5f81-46d9-b73a-1536dde29de5"
      },
      "outputs": [
        {
          "data": {
            "text/plain": [
              "(5363, 69)"
            ]
          },
          "execution_count": 70,
          "metadata": {},
          "output_type": "execute_result"
        }
      ],
      "source": [
        "df_fe = pd.concat([df_fe, dummies], axis = 1)\n",
        "df_fe.shape"
      ]
    },
    {
      "cell_type": "code",
      "execution_count": 71,
      "metadata": {
        "id": "vf3r9yp5x6EK",
        "outputId": "95fe91c9-9fd2-47c6-cb7d-ddfb456688aa"
      },
      "outputs": [
        {
          "data": {
            "text/plain": [
              "(5363, 66)"
            ]
          },
          "execution_count": 71,
          "metadata": {},
          "output_type": "execute_result"
        }
      ],
      "source": [
        "# Drop the original cat variables as dummies are already created\n",
        "\n",
        "df_fe.drop(cat_col, axis = 1, inplace = True)\n",
        "df_fe.shape"
      ]
    },
    {
      "cell_type": "code",
      "execution_count": 72,
      "metadata": {
        "id": "DdXFtI9Rx6EL",
        "outputId": "6b3cf14f-9190-413c-90ac-15f05933bac3"
      },
      "outputs": [
        {
          "data": {
            "text/html": [
              "<div>\n",
              "<style scoped>\n",
              "    .dataframe tbody tr th:only-of-type {\n",
              "        vertical-align: middle;\n",
              "    }\n",
              "\n",
              "    .dataframe tbody tr th {\n",
              "        vertical-align: top;\n",
              "    }\n",
              "\n",
              "    .dataframe thead th {\n",
              "        text-align: right;\n",
              "    }\n",
              "</style>\n",
              "<table border=\"1\" class=\"dataframe\">\n",
              "  <thead>\n",
              "    <tr style=\"text-align: right;\">\n",
              "      <th></th>\n",
              "      <th>Year</th>\n",
              "      <th>Engine_Size</th>\n",
              "      <th>Mileage</th>\n",
              "      <th>Price_Clean</th>\n",
              "      <th>Options_Full</th>\n",
              "      <th>Options_Semi Full</th>\n",
              "      <th>Options_Standard</th>\n",
              "      <th>Gear_Type_Automatic</th>\n",
              "      <th>Gear_Type_Manual</th>\n",
              "      <th>Make_Aston Martin</th>\n",
              "      <th>...</th>\n",
              "      <th>Make_Porsche</th>\n",
              "      <th>Make_Renault</th>\n",
              "      <th>Make_Rolls-Royce</th>\n",
              "      <th>Make_Subaru</th>\n",
              "      <th>Make_Suzuki</th>\n",
              "      <th>Make_Toyota</th>\n",
              "      <th>Make_Victory Auto</th>\n",
              "      <th>Make_Volkswagen</th>\n",
              "      <th>Make_Zhengzhou</th>\n",
              "      <th>Make_Škoda</th>\n",
              "    </tr>\n",
              "  </thead>\n",
              "  <tbody>\n",
              "    <tr>\n",
              "      <th>0</th>\n",
              "      <td>2021</td>\n",
              "      <td>5.0</td>\n",
              "      <td>5000</td>\n",
              "      <td>4.723050e+09</td>\n",
              "      <td>True</td>\n",
              "      <td>False</td>\n",
              "      <td>False</td>\n",
              "      <td>True</td>\n",
              "      <td>False</td>\n",
              "      <td>False</td>\n",
              "      <td>...</td>\n",
              "      <td>False</td>\n",
              "      <td>False</td>\n",
              "      <td>False</td>\n",
              "      <td>False</td>\n",
              "      <td>False</td>\n",
              "      <td>False</td>\n",
              "      <td>False</td>\n",
              "      <td>False</td>\n",
              "      <td>False</td>\n",
              "      <td>False</td>\n",
              "    </tr>\n",
              "    <tr>\n",
              "      <th>1</th>\n",
              "      <td>2019</td>\n",
              "      <td>6.0</td>\n",
              "      <td>13000</td>\n",
              "      <td>3.490950e+09</td>\n",
              "      <td>True</td>\n",
              "      <td>False</td>\n",
              "      <td>False</td>\n",
              "      <td>True</td>\n",
              "      <td>False</td>\n",
              "      <td>False</td>\n",
              "      <td>...</td>\n",
              "      <td>False</td>\n",
              "      <td>False</td>\n",
              "      <td>False</td>\n",
              "      <td>False</td>\n",
              "      <td>False</td>\n",
              "      <td>False</td>\n",
              "      <td>False</td>\n",
              "      <td>False</td>\n",
              "      <td>False</td>\n",
              "      <td>False</td>\n",
              "    </tr>\n",
              "    <tr>\n",
              "      <th>2</th>\n",
              "      <td>2019</td>\n",
              "      <td>5.0</td>\n",
              "      <td>60000</td>\n",
              "      <td>3.429345e+09</td>\n",
              "      <td>True</td>\n",
              "      <td>False</td>\n",
              "      <td>False</td>\n",
              "      <td>True</td>\n",
              "      <td>False</td>\n",
              "      <td>False</td>\n",
              "      <td>...</td>\n",
              "      <td>False</td>\n",
              "      <td>False</td>\n",
              "      <td>False</td>\n",
              "      <td>False</td>\n",
              "      <td>False</td>\n",
              "      <td>False</td>\n",
              "      <td>False</td>\n",
              "      <td>False</td>\n",
              "      <td>False</td>\n",
              "      <td>False</td>\n",
              "    </tr>\n",
              "    <tr>\n",
              "      <th>3</th>\n",
              "      <td>2019</td>\n",
              "      <td>4.0</td>\n",
              "      <td>39000</td>\n",
              "      <td>3.285600e+09</td>\n",
              "      <td>True</td>\n",
              "      <td>False</td>\n",
              "      <td>False</td>\n",
              "      <td>True</td>\n",
              "      <td>False</td>\n",
              "      <td>False</td>\n",
              "      <td>...</td>\n",
              "      <td>False</td>\n",
              "      <td>False</td>\n",
              "      <td>False</td>\n",
              "      <td>False</td>\n",
              "      <td>False</td>\n",
              "      <td>False</td>\n",
              "      <td>False</td>\n",
              "      <td>False</td>\n",
              "      <td>False</td>\n",
              "      <td>False</td>\n",
              "    </tr>\n",
              "    <tr>\n",
              "      <th>4</th>\n",
              "      <td>2020</td>\n",
              "      <td>1.0</td>\n",
              "      <td>300</td>\n",
              "      <td>3.172658e+09</td>\n",
              "      <td>False</td>\n",
              "      <td>False</td>\n",
              "      <td>True</td>\n",
              "      <td>True</td>\n",
              "      <td>False</td>\n",
              "      <td>False</td>\n",
              "      <td>...</td>\n",
              "      <td>False</td>\n",
              "      <td>False</td>\n",
              "      <td>False</td>\n",
              "      <td>False</td>\n",
              "      <td>False</td>\n",
              "      <td>False</td>\n",
              "      <td>False</td>\n",
              "      <td>False</td>\n",
              "      <td>False</td>\n",
              "      <td>False</td>\n",
              "    </tr>\n",
              "  </tbody>\n",
              "</table>\n",
              "<p>5 rows × 66 columns</p>\n",
              "</div>"
            ],
            "text/plain": [
              "   Year  Engine_Size  Mileage   Price_Clean  Options_Full  Options_Semi Full  \\\n",
              "0  2021          5.0     5000  4.723050e+09          True              False   \n",
              "1  2019          6.0    13000  3.490950e+09          True              False   \n",
              "2  2019          5.0    60000  3.429345e+09          True              False   \n",
              "3  2019          4.0    39000  3.285600e+09          True              False   \n",
              "4  2020          1.0      300  3.172658e+09         False              False   \n",
              "\n",
              "   Options_Standard  Gear_Type_Automatic  Gear_Type_Manual  Make_Aston Martin  \\\n",
              "0             False                 True             False              False   \n",
              "1             False                 True             False              False   \n",
              "2             False                 True             False              False   \n",
              "3             False                 True             False              False   \n",
              "4              True                 True             False              False   \n",
              "\n",
              "   ...  Make_Porsche  Make_Renault  Make_Rolls-Royce  Make_Subaru  \\\n",
              "0  ...         False         False             False        False   \n",
              "1  ...         False         False             False        False   \n",
              "2  ...         False         False             False        False   \n",
              "3  ...         False         False             False        False   \n",
              "4  ...         False         False             False        False   \n",
              "\n",
              "   Make_Suzuki  Make_Toyota  Make_Victory Auto  Make_Volkswagen  \\\n",
              "0        False        False              False            False   \n",
              "1        False        False              False            False   \n",
              "2        False        False              False            False   \n",
              "3        False        False              False            False   \n",
              "4        False        False              False            False   \n",
              "\n",
              "   Make_Zhengzhou  Make_Škoda  \n",
              "0           False       False  \n",
              "1           False       False  \n",
              "2           False       False  \n",
              "3           False       False  \n",
              "4           False       False  \n",
              "\n",
              "[5 rows x 66 columns]"
            ]
          },
          "execution_count": 72,
          "metadata": {},
          "output_type": "execute_result"
        }
      ],
      "source": [
        "df_fe.head()"
      ]
    },
    {
      "cell_type": "markdown",
      "metadata": {
        "id": "l_YebaGix6EL"
      },
      "source": [
        "---"
      ]
    },
    {
      "cell_type": "markdown",
      "metadata": {
        "id": "6hLgPj7Jx6EL"
      },
      "source": [
        "## 3. Modeling"
      ]
    },
    {
      "cell_type": "markdown",
      "metadata": {
        "id": "ZKPTHQ1PsQrY"
      },
      "source": [
        "In this step, we will create a model to predict our dataset. The best model is the model which can get the highest accuraccy and get the best stable on that. As the final, we will compare and choose what is the best model based on the value etc."
      ]
    },
    {
      "cell_type": "markdown",
      "metadata": {
        "id": "Z4C2I3s-sQrZ"
      },
      "source": [
        "**Import Libraries**"
      ]
    },
    {
      "cell_type": "code",
      "execution_count": 73,
      "metadata": {
        "id": "NgaP60mVsQrZ"
      },
      "outputs": [],
      "source": [
        "# Import libraries for machine learning\n",
        "from sklearn.linear_model import LinearRegression\n",
        "from sklearn.ensemble import RandomForestRegressor\n",
        "from sklearn.neighbors import KNeighborsRegressor\n",
        "from sklearn.tree import DecisionTreeRegressor\n",
        "from xgboost.sklearn import XGBRegressor\n",
        "from sklearn.metrics import r2_score, mean_squared_error, f1_score, precision_score, recall_score\n",
        "from math import sqrt\n",
        "\n",
        "from sklearn.model_selection import train_test_split, cross_val_score, RandomizedSearchCV, GridSearchCV, KFold\n",
        "\n",
        "from sklearn.preprocessing import OneHotEncoder\n",
        "from sklearn.compose import ColumnTransformer\n",
        "from sklearn.pipeline import Pipeline\n",
        "from sklearn.preprocessing import StandardScaler\n",
        "from sklearn.compose import TransformedTargetRegressor\n",
        "import numpy as np"
      ]
    },
    {
      "cell_type": "code",
      "execution_count": 74,
      "metadata": {},
      "outputs": [],
      "source": [
        "import category_encoders as ce\n",
        "\n",
        "transformer = ColumnTransformer([\n",
        "    ('One Hot', OneHotEncoder(drop='first'), [\n",
        "        'Gear_Type_Automatic', 'Gear_Type_Manual', \n",
        "        'Options_Full', 'Options_Semi Full', 'Options_Standard'\n",
        "    ])\n",
        "], remainder='passthrough')\n"
      ]
    },
    {
      "cell_type": "markdown",
      "metadata": {
        "id": "1TwPNkNHsQrZ"
      },
      "source": [
        "**Splitting dataset into Traing and Testing sets**"
      ]
    },
    {
      "cell_type": "code",
      "execution_count": 75,
      "metadata": {
        "id": "R7csaPcfsQra"
      },
      "outputs": [],
      "source": [
        "from sklearn.model_selection import train_test_split, cross_val_score, RandomizedSearchCV, GridSearchCV, KFold\n",
        "\n",
        "X = df_fe.drop(['Price_Clean'] , axis=1)\n",
        "y = df_fe['Price_Clean']\n",
        "X_train, X_test, y_train, y_test = train_test_split(X, y, test_size=0.24, random_state=90000)"
      ]
    },
    {
      "cell_type": "markdown",
      "metadata": {
        "id": "TJFQchHrsQra"
      },
      "source": [
        "**- Linear Regression**"
      ]
    },
    {
      "cell_type": "code",
      "execution_count": 76,
      "metadata": {
        "id": "JsCKd8n9sQra"
      },
      "outputs": [],
      "source": [
        "# Define the model\n",
        "lr = LinearRegression()\n",
        "lr.fit(X_train, y_train)\n",
        "preds_lr_test = lr.predict(X_test)"
      ]
    },
    {
      "cell_type": "code",
      "execution_count": 77,
      "metadata": {
        "id": "Nn53M_OcsQrb",
        "outputId": "c27e7672-7e67-4e51-9b82-dffa2acd42ec"
      },
      "outputs": [
        {
          "name": "stdout",
          "output_type": "stream",
          "text": [
            "R-squared Percentage of Linear Regression Model : 60.39209445735232 %\n",
            "MSE of Linear Regression Model : 3.3180774558910496e+16\n",
            "RMSE of Linear Regression Model : 182155907.28524423\n"
          ]
        }
      ],
      "source": [
        "# Now lets see if our model is good\n",
        "print('R-squared Percentage of Linear Regression Model :',(r2_score(y_test, preds_lr_test))*100,'%')\n",
        "print('MSE of Linear Regression Model :',(mean_squared_error(y_test, preds_lr_test)))\n",
        "print('RMSE of Linear Regression Model :',sqrt(mean_squared_error(y_test, preds_lr_test)))"
      ]
    },
    {
      "cell_type": "markdown",
      "metadata": {
        "id": "8K-I8r2nsQrb"
      },
      "source": [
        "**- Random Forest Regressor**"
      ]
    },
    {
      "cell_type": "code",
      "execution_count": 78,
      "metadata": {
        "id": "5EnXnwuhsQrb"
      },
      "outputs": [],
      "source": [
        "# Define the model\n",
        "rf = RandomForestRegressor()\n",
        "rf.fit(X_train, y_train)\n",
        "preds_rf_test = rf.predict(X_test)"
      ]
    },
    {
      "cell_type": "code",
      "execution_count": 79,
      "metadata": {
        "id": "oa-sCf3bsQrc",
        "outputId": "1507b050-e203-4473-8602-fcfac93b2e4b"
      },
      "outputs": [
        {
          "name": "stdout",
          "output_type": "stream",
          "text": [
            "R-squared Percentage of Random Forest Regressor Model : 83.01148634143122 %\n",
            "MSE of Random Forest Regressor Model : 1.4231806354642724e+16\n",
            "RMSE of Random Forest Regressor Model : 119297134.72939207\n"
          ]
        }
      ],
      "source": [
        "# Now lets see if our model is good\n",
        "print('R-squared Percentage of Random Forest Regressor Model :',(r2_score(y_test, preds_rf_test))*100,'%')\n",
        "print('MSE of Random Forest Regressor Model :',(mean_squared_error(y_test, preds_rf_test)))\n",
        "print('RMSE of Random Forest Regressor Model :',sqrt(mean_squared_error(y_test, preds_rf_test)))"
      ]
    },
    {
      "cell_type": "markdown",
      "metadata": {
        "id": "jXWCKGDqsQrc"
      },
      "source": [
        "**- KNeighbors Regressor**"
      ]
    },
    {
      "cell_type": "code",
      "execution_count": 80,
      "metadata": {
        "id": "5D_sBLgesQrc"
      },
      "outputs": [],
      "source": [
        "# Define the model\n",
        "knn = KNeighborsRegressor()\n",
        "knn.fit(X_train, y_train)\n",
        "preds_knn_test = knn.predict(X_test)"
      ]
    },
    {
      "cell_type": "code",
      "execution_count": 81,
      "metadata": {
        "id": "aK-fgDIPsQrd",
        "outputId": "e6e0b264-1829-4b6a-f480-1f9d864e04d5"
      },
      "outputs": [
        {
          "name": "stdout",
          "output_type": "stream",
          "text": [
            "R-squared Percentage of KNeighbors Regressor Model : 15.17697476124643 %\n",
            "MSE of KNeighbors Regressor Model : 7.105888683816822e+16\n",
            "RMSE of KNeighbors Regressor Model : 266568728.16999415\n"
          ]
        }
      ],
      "source": [
        "# Now lets see if our model is good\n",
        "print('R-squared Percentage of KNeighbors Regressor Model :',(r2_score(y_test, preds_knn_test))*100,'%')\n",
        "print('MSE of KNeighbors Regressor Model :',(mean_squared_error(y_test, preds_knn_test)))\n",
        "print('RMSE of KNeighbors Regressor Model :',sqrt(mean_squared_error(y_test, preds_knn_test)))"
      ]
    },
    {
      "cell_type": "markdown",
      "metadata": {
        "id": "qbuFTyyqsQrd"
      },
      "source": [
        "**- Decision Tree Regressor**"
      ]
    },
    {
      "cell_type": "code",
      "execution_count": 82,
      "metadata": {
        "id": "N_plk9ULsQre"
      },
      "outputs": [],
      "source": [
        "# Define the model\n",
        "dt = DecisionTreeRegressor()\n",
        "dt.fit(X_train, y_train)\n",
        "preds_dt_test = dt.predict(X_test)"
      ]
    },
    {
      "cell_type": "code",
      "execution_count": 83,
      "metadata": {
        "id": "NjO6ma5GsQre",
        "outputId": "82459b80-93f9-48b4-86de-ca0415446b8f"
      },
      "outputs": [
        {
          "name": "stdout",
          "output_type": "stream",
          "text": [
            "R-squared Percentage of Decision Tree Regressor Model : 50.745320609915325 %\n",
            "MSE of Decision Tree Regressor Model : 4.126217709376425e+16\n",
            "RMSE of Decision Tree Regressor Model : 203130935.83638176\n"
          ]
        }
      ],
      "source": [
        "# Now lets see if our model is good\n",
        "print('R-squared Percentage of Decision Tree Regressor Model :',(r2_score(y_test, preds_dt_test))*100,'%')\n",
        "print('MSE of Decision Tree Regressor Model :',(mean_squared_error(y_test, preds_dt_test)))\n",
        "print('RMSE of Decision Tree Regressor Model :',sqrt(mean_squared_error(y_test, preds_dt_test)))"
      ]
    },
    {
      "cell_type": "markdown",
      "metadata": {
        "id": "rs8j6c_esQre"
      },
      "source": [
        "**- XGB Regressor**"
      ]
    },
    {
      "cell_type": "code",
      "execution_count": 84,
      "metadata": {
        "id": "73aNXX4ysQre"
      },
      "outputs": [],
      "source": [
        "# Define the model\n",
        "xgb = XGBRegressor()\n",
        "xgb.fit(X_train, y_train)\n",
        "preds_xgb_test = xgb.predict(X_test)"
      ]
    },
    {
      "cell_type": "code",
      "execution_count": 85,
      "metadata": {
        "id": "fd87Nrr1sQrf",
        "outputId": "0699c87a-6520-4d47-c78b-48c24a7febb7"
      },
      "outputs": [
        {
          "name": "stdout",
          "output_type": "stream",
          "text": [
            "R-squared Percentage of XGB Regressor Model : 80.5877205497671 %\n",
            "MSE of XGB Regressor Model : 1.626227035456851e+16\n",
            "RMSE of XGB Regressor Model : 127523607.04814035\n"
          ]
        }
      ],
      "source": [
        "# Now lets see if our model is good\n",
        "print('R-squared Percentage of XGB Regressor Model :',(r2_score(y_test, preds_xgb_test))*100,'%')\n",
        "print('MSE of XGB Regressor Model :',(mean_squared_error(y_test, preds_xgb_test)))\n",
        "print('RMSE of XGB Regressor Model :',sqrt(mean_squared_error(y_test, preds_xgb_test)))"
      ]
    },
    {
      "cell_type": "markdown",
      "metadata": {
        "id": "O6pFkdp1sQrf"
      },
      "source": [
        "**Summary**"
      ]
    },
    {
      "cell_type": "markdown",
      "metadata": {
        "id": "4S4c-U6ksQrf"
      },
      "source": [
        "As we can see, that the best model is on Random Forest Regressor with R-squared (Percentage) on 84.29% and the second is XGB Regressor on 83.82%. With his val we decided to select the Random Forest as our Model on this Capstone.\n",
        "\n"
      ]
    },
    {
      "cell_type": "markdown",
      "metadata": {},
      "source": [
        "**Choose a Benchmark Model**"
      ]
    },
    {
      "cell_type": "code",
      "execution_count": 86,
      "metadata": {},
      "outputs": [],
      "source": [
        "# Define models\n",
        "lr = LinearRegression()\n",
        "knn = KNeighborsRegressor()\n",
        "dt = DecisionTreeRegressor(random_state=42)\n",
        "rf = RandomForestRegressor(random_state=42)\n",
        "xgb = XGBRegressor(random_state=42)\n",
        "\n",
        "# Scaling data\n",
        "scaler = StandardScaler()\n",
        "\n",
        "# Candidate algorithms\n",
        "models = [lr, knn, dt, rf, xgb]\n",
        "\n",
        "# Initialize lists to store scores\n",
        "score_rmse = []\n",
        "nilai_mean_rmse = []\n",
        "nilai_std_rmse = []\n",
        "\n",
        "score_mae = []\n",
        "nilai_mean_mae = []\n",
        "nilai_std_mae = []\n",
        "\n",
        "score_mape = []\n",
        "nilai_mean_mape = []\n",
        "nilai_std_mape = []\n",
        "\n",
        "# Ensure y_train is in the correct format (pandas Series)\n",
        "y_train_no_log = y_train.copy()\n",
        "if isinstance(y_train, np.ndarray):\n",
        "    y_train_no_log = pd.Series(y_train_no_log)\n",
        "\n",
        "# Set up cross-validation\n",
        "crossval = KFold(n_splits=10, shuffle=True, random_state=42)\n",
        "\n",
        "# Iterate over models and compute scores\n",
        "for model in models:\n",
        "    \n",
        "    # Build the pipeline\n",
        "    estimator = Pipeline([\n",
        "        ('preprocessing', transformer),  # Your transformer goes here\n",
        "        ('scaler', scaler),  # StandardScaler to normalize\n",
        "        ('model', model)\n",
        "    ])\n",
        "\n",
        "    # RMSE\n",
        "    model_cv_rmse = cross_val_score(\n",
        "        estimator, \n",
        "        X_train, \n",
        "        y_train_no_log, \n",
        "        cv=crossval, \n",
        "        scoring='neg_root_mean_squared_error', \n",
        "        error_score='raise'\n",
        "    )\n",
        "\n",
        "    score_rmse.append(model_cv_rmse)\n",
        "    nilai_mean_rmse.append(-model_cv_rmse.mean())  # Negate because cross_val_score returns negative RMSE\n",
        "    nilai_std_rmse.append(model_cv_rmse.std())\n",
        "\n",
        "    # MAE\n",
        "    model_cv_mae = cross_val_score(\n",
        "        estimator, \n",
        "        X_train, \n",
        "        y_train_no_log, \n",
        "        cv=crossval, \n",
        "        scoring='neg_mean_absolute_error', \n",
        "        error_score='raise'\n",
        "    )\n",
        "\n",
        "    score_mae.append(model_cv_mae)\n",
        "    nilai_mean_mae.append(-model_cv_mae.mean())  # Negate because cross_val_score returns negative MAE\n",
        "    nilai_std_mae.append(model_cv_mae.std())\n",
        "\n",
        "    # MAPE\n",
        "    model_cv_mape = cross_val_score(\n",
        "        estimator, \n",
        "        X_train, \n",
        "        y_train_no_log, \n",
        "        cv=crossval, \n",
        "        scoring='neg_mean_absolute_percentage_error', \n",
        "        error_score='raise'\n",
        "    )\n",
        "\n",
        "    score_mape.append(model_cv_mape)\n",
        "    nilai_mean_mape.append(-model_cv_mape.mean())  # Negate because cross_val_score returns negative MAPE\n",
        "    nilai_std_mape.append(model_cv_mape.std())"
      ]
    },
    {
      "cell_type": "code",
      "execution_count": 87,
      "metadata": {},
      "outputs": [
        {
          "data": {
            "text/html": [
              "<div>\n",
              "<style scoped>\n",
              "    .dataframe tbody tr th:only-of-type {\n",
              "        vertical-align: middle;\n",
              "    }\n",
              "\n",
              "    .dataframe tbody tr th {\n",
              "        vertical-align: top;\n",
              "    }\n",
              "\n",
              "    .dataframe thead th {\n",
              "        text-align: right;\n",
              "    }\n",
              "</style>\n",
              "<table border=\"1\" class=\"dataframe\">\n",
              "  <thead>\n",
              "    <tr style=\"text-align: right;\">\n",
              "      <th></th>\n",
              "      <th>Model</th>\n",
              "      <th>Mean_RMSE</th>\n",
              "      <th>Std_RMSE</th>\n",
              "      <th>Mean_MAE</th>\n",
              "      <th>Std_MAE</th>\n",
              "      <th>Mean_MAPE</th>\n",
              "      <th>Std_MAPE</th>\n",
              "    </tr>\n",
              "  </thead>\n",
              "  <tbody>\n",
              "    <tr>\n",
              "      <th>0</th>\n",
              "      <td>Linear Regression</td>\n",
              "      <td>7.473722e+19</td>\n",
              "      <td>1.235096e+20</td>\n",
              "      <td>3.776746e+18</td>\n",
              "      <td>6.113720e+18</td>\n",
              "      <td>1.149089e+10</td>\n",
              "      <td>1.551147e+10</td>\n",
              "    </tr>\n",
              "    <tr>\n",
              "      <th>1</th>\n",
              "      <td>KNN Regressor</td>\n",
              "      <td>1.516916e+08</td>\n",
              "      <td>2.888031e+07</td>\n",
              "      <td>7.929478e+07</td>\n",
              "      <td>6.726094e+06</td>\n",
              "      <td>3.291601e-01</td>\n",
              "      <td>2.701187e-02</td>\n",
              "    </tr>\n",
              "    <tr>\n",
              "      <th>2</th>\n",
              "      <td>DecisionTree Regressor</td>\n",
              "      <td>1.784928e+08</td>\n",
              "      <td>2.628929e+07</td>\n",
              "      <td>8.819192e+07</td>\n",
              "      <td>7.395346e+06</td>\n",
              "      <td>2.957382e-01</td>\n",
              "      <td>2.200029e-02</td>\n",
              "    </tr>\n",
              "    <tr>\n",
              "      <th>3</th>\n",
              "      <td>RandomForest Regressor</td>\n",
              "      <td>1.459837e+08</td>\n",
              "      <td>3.345849e+07</td>\n",
              "      <td>6.788959e+07</td>\n",
              "      <td>7.133855e+06</td>\n",
              "      <td>2.328433e-01</td>\n",
              "      <td>1.210559e-02</td>\n",
              "    </tr>\n",
              "    <tr>\n",
              "      <th>4</th>\n",
              "      <td>XGBoost Regressor</td>\n",
              "      <td>1.372973e+08</td>\n",
              "      <td>2.027245e+07</td>\n",
              "      <td>6.688972e+07</td>\n",
              "      <td>6.360701e+06</td>\n",
              "      <td>2.314000e-01</td>\n",
              "      <td>1.655919e-02</td>\n",
              "    </tr>\n",
              "  </tbody>\n",
              "</table>\n",
              "</div>"
            ],
            "text/plain": [
              "                    Model     Mean_RMSE      Std_RMSE      Mean_MAE  \\\n",
              "0       Linear Regression  7.473722e+19  1.235096e+20  3.776746e+18   \n",
              "1           KNN Regressor  1.516916e+08  2.888031e+07  7.929478e+07   \n",
              "2  DecisionTree Regressor  1.784928e+08  2.628929e+07  8.819192e+07   \n",
              "3  RandomForest Regressor  1.459837e+08  3.345849e+07  6.788959e+07   \n",
              "4       XGBoost Regressor  1.372973e+08  2.027245e+07  6.688972e+07   \n",
              "\n",
              "        Std_MAE     Mean_MAPE      Std_MAPE  \n",
              "0  6.113720e+18  1.149089e+10  1.551147e+10  \n",
              "1  6.726094e+06  3.291601e-01  2.701187e-02  \n",
              "2  7.395346e+06  2.957382e-01  2.200029e-02  \n",
              "3  7.133855e+06  2.328433e-01  1.210559e-02  \n",
              "4  6.360701e+06  2.314000e-01  1.655919e-02  "
            ]
          },
          "execution_count": 87,
          "metadata": {},
          "output_type": "execute_result"
        }
      ],
      "source": [
        "# Create a DataFrame to evaluate the results\n",
        "results_df = pd.DataFrame({\n",
        "    'Model': ['Linear Regression', 'KNN Regressor', 'DecisionTree Regressor', 'RandomForest Regressor', 'XGBoost Regressor'],\n",
        "    'Mean_RMSE': nilai_mean_rmse,\n",
        "    'Std_RMSE': nilai_std_rmse,\n",
        "    'Mean_MAE': nilai_mean_mae,\n",
        "    'Std_MAE': nilai_std_mae,\n",
        "    'Mean_MAPE': nilai_mean_mape,\n",
        "    'Std_MAPE': nilai_std_mape\n",
        "})\n",
        "\n",
        "# Display the results\n",
        "results_df"
      ]
    },
    {
      "cell_type": "markdown",
      "metadata": {},
      "source": [
        "- **XGBoost** and **Random Forest** are the top-performing models in this comparison, with XGBoost slightly outperforming Random Forest in terms of both **RMSE**, **MAE**, and **MAPE**. This suggests that **ensemble methods** are more suitable for our data.\n",
        "- **KNN** and **Decision Trees** perform reasonably well but are outclassed by **Random Forest** and **XGBoost**.\n",
        "- **Linear Regression** is a poor fit for this dataset, likely due to **non-linear relationships** or **high multicollinearity** among features."
      ]
    },
    {
      "cell_type": "markdown",
      "metadata": {},
      "source": [
        "Let's we see the result of Hyperparameter Tuning of Random Forest Regressor on our model"
      ]
    },
    {
      "cell_type": "markdown",
      "metadata": {
        "id": "yCTuOiXpsQrg"
      },
      "source": [
        "**Hyperparameter Tuning**"
      ]
    },
    {
      "cell_type": "markdown",
      "metadata": {
        "id": "5MHksVbvsQrg"
      },
      "source": [
        "In this step, we will Hyperparameter Tuning our model with this [Source4](https://www.kaggle.com/code/arjunprasadsarkhel/simple-random-forest-with-hyperparameter-tuning/notebook#Hyperparameter-tuning-using-RandomizedSearch-CV), [Source5](https://towardsdatascience.com/hyperparameter-tuning-the-random-forest-in-python-using-scikit-learn-28d2aa77dd74) to see the result and comparing it"
      ]
    },
    {
      "cell_type": "code",
      "execution_count": 88,
      "metadata": {},
      "outputs": [
        {
          "name": "stdout",
          "output_type": "stream",
          "text": [
            "Fitting 5 folds for each of 100 candidates, totalling 500 fits\n"
          ]
        },
        {
          "name": "stderr",
          "output_type": "stream",
          "text": [
            "c:\\Users\\lenovo\\AppData\\Local\\Programs\\Python\\Python312\\Lib\\site-packages\\sklearn\\model_selection\\_validation.py:540: FitFailedWarning: \n",
            "235 fits failed out of a total of 500.\n",
            "The score on these train-test partitions for these parameters will be set to nan.\n",
            "If these failures are not expected, you can try to debug them by setting error_score='raise'.\n",
            "\n",
            "Below are more details about the failures:\n",
            "--------------------------------------------------------------------------------\n",
            "68 fits failed with the following error:\n",
            "Traceback (most recent call last):\n",
            "  File \"c:\\Users\\lenovo\\AppData\\Local\\Programs\\Python\\Python312\\Lib\\site-packages\\sklearn\\model_selection\\_validation.py\", line 888, in _fit_and_score\n",
            "    estimator.fit(X_train, y_train, **fit_params)\n",
            "  File \"c:\\Users\\lenovo\\AppData\\Local\\Programs\\Python\\Python312\\Lib\\site-packages\\sklearn\\base.py\", line 1466, in wrapper\n",
            "    estimator._validate_params()\n",
            "  File \"c:\\Users\\lenovo\\AppData\\Local\\Programs\\Python\\Python312\\Lib\\site-packages\\sklearn\\base.py\", line 666, in _validate_params\n",
            "    validate_parameter_constraints(\n",
            "  File \"c:\\Users\\lenovo\\AppData\\Local\\Programs\\Python\\Python312\\Lib\\site-packages\\sklearn\\utils\\_param_validation.py\", line 95, in validate_parameter_constraints\n",
            "    raise InvalidParameterError(\n",
            "sklearn.utils._param_validation.InvalidParameterError: The 'max_features' parameter of RandomForestRegressor must be an int in the range [1, inf), a float in the range (0.0, 1.0], a str among {'log2', 'sqrt'} or None. Got 'auto' instead.\n",
            "\n",
            "--------------------------------------------------------------------------------\n",
            "167 fits failed with the following error:\n",
            "Traceback (most recent call last):\n",
            "  File \"c:\\Users\\lenovo\\AppData\\Local\\Programs\\Python\\Python312\\Lib\\site-packages\\sklearn\\model_selection\\_validation.py\", line 888, in _fit_and_score\n",
            "    estimator.fit(X_train, y_train, **fit_params)\n",
            "  File \"c:\\Users\\lenovo\\AppData\\Local\\Programs\\Python\\Python312\\Lib\\site-packages\\sklearn\\base.py\", line 1466, in wrapper\n",
            "    estimator._validate_params()\n",
            "  File \"c:\\Users\\lenovo\\AppData\\Local\\Programs\\Python\\Python312\\Lib\\site-packages\\sklearn\\base.py\", line 666, in _validate_params\n",
            "    validate_parameter_constraints(\n",
            "  File \"c:\\Users\\lenovo\\AppData\\Local\\Programs\\Python\\Python312\\Lib\\site-packages\\sklearn\\utils\\_param_validation.py\", line 95, in validate_parameter_constraints\n",
            "    raise InvalidParameterError(\n",
            "sklearn.utils._param_validation.InvalidParameterError: The 'max_features' parameter of RandomForestRegressor must be an int in the range [1, inf), a float in the range (0.0, 1.0], a str among {'sqrt', 'log2'} or None. Got 'auto' instead.\n",
            "\n",
            "  warnings.warn(some_fits_failed_message, FitFailedWarning)\n",
            "c:\\Users\\lenovo\\AppData\\Local\\Programs\\Python\\Python312\\Lib\\site-packages\\sklearn\\model_selection\\_search.py:1052: UserWarning: One or more of the test scores are non-finite: [0.5875007  0.74060245 0.62898086        nan        nan        nan\n",
            "        nan 0.74156647 0.76707051 0.66245889 0.69544837        nan\n",
            "        nan 0.70518547 0.63945724 0.67599167        nan 0.72132495\n",
            "        nan 0.67430158 0.76861           nan        nan        nan\n",
            " 0.7434988  0.67319116 0.67433211 0.64196378        nan        nan\n",
            "        nan        nan        nan 0.59475605        nan        nan\n",
            "        nan 0.62153831        nan        nan 0.74227611        nan\n",
            " 0.70978411 0.70775411 0.67162247 0.77178496        nan        nan\n",
            " 0.71542051 0.76639504        nan        nan 0.77513322 0.78706827\n",
            " 0.76717859        nan        nan 0.77607916        nan        nan\n",
            "        nan        nan 0.78549329        nan 0.66965514        nan\n",
            " 0.67315134        nan 0.69920019        nan 0.6400945  0.74704476\n",
            " 0.72950593        nan 0.74598951 0.78513217 0.65356123 0.63537398\n",
            " 0.66615299        nan 0.6826893  0.74428713 0.77152679        nan\n",
            " 0.74292026        nan        nan        nan        nan        nan\n",
            " 0.70814291 0.74371847 0.69576479 0.75982016        nan 0.63129986\n",
            "        nan 0.74551371 0.66623919        nan]\n",
            "  warnings.warn(\n"
          ]
        },
        {
          "data": {
            "text/html": [
              "<style>#sk-container-id-3 {\n",
              "  /* Definition of color scheme common for light and dark mode */\n",
              "  --sklearn-color-text: black;\n",
              "  --sklearn-color-line: gray;\n",
              "  /* Definition of color scheme for unfitted estimators */\n",
              "  --sklearn-color-unfitted-level-0: #fff5e6;\n",
              "  --sklearn-color-unfitted-level-1: #f6e4d2;\n",
              "  --sklearn-color-unfitted-level-2: #ffe0b3;\n",
              "  --sklearn-color-unfitted-level-3: chocolate;\n",
              "  /* Definition of color scheme for fitted estimators */\n",
              "  --sklearn-color-fitted-level-0: #f0f8ff;\n",
              "  --sklearn-color-fitted-level-1: #d4ebff;\n",
              "  --sklearn-color-fitted-level-2: #b3dbfd;\n",
              "  --sklearn-color-fitted-level-3: cornflowerblue;\n",
              "\n",
              "  /* Specific color for light theme */\n",
              "  --sklearn-color-text-on-default-background: var(--sg-text-color, var(--theme-code-foreground, var(--jp-content-font-color1, black)));\n",
              "  --sklearn-color-background: var(--sg-background-color, var(--theme-background, var(--jp-layout-color0, white)));\n",
              "  --sklearn-color-border-box: var(--sg-text-color, var(--theme-code-foreground, var(--jp-content-font-color1, black)));\n",
              "  --sklearn-color-icon: #696969;\n",
              "\n",
              "  @media (prefers-color-scheme: dark) {\n",
              "    /* Redefinition of color scheme for dark theme */\n",
              "    --sklearn-color-text-on-default-background: var(--sg-text-color, var(--theme-code-foreground, var(--jp-content-font-color1, white)));\n",
              "    --sklearn-color-background: var(--sg-background-color, var(--theme-background, var(--jp-layout-color0, #111)));\n",
              "    --sklearn-color-border-box: var(--sg-text-color, var(--theme-code-foreground, var(--jp-content-font-color1, white)));\n",
              "    --sklearn-color-icon: #878787;\n",
              "  }\n",
              "}\n",
              "\n",
              "#sk-container-id-3 {\n",
              "  color: var(--sklearn-color-text);\n",
              "}\n",
              "\n",
              "#sk-container-id-3 pre {\n",
              "  padding: 0;\n",
              "}\n",
              "\n",
              "#sk-container-id-3 input.sk-hidden--visually {\n",
              "  border: 0;\n",
              "  clip: rect(1px 1px 1px 1px);\n",
              "  clip: rect(1px, 1px, 1px, 1px);\n",
              "  height: 1px;\n",
              "  margin: -1px;\n",
              "  overflow: hidden;\n",
              "  padding: 0;\n",
              "  position: absolute;\n",
              "  width: 1px;\n",
              "}\n",
              "\n",
              "#sk-container-id-3 div.sk-dashed-wrapped {\n",
              "  border: 1px dashed var(--sklearn-color-line);\n",
              "  margin: 0 0.4em 0.5em 0.4em;\n",
              "  box-sizing: border-box;\n",
              "  padding-bottom: 0.4em;\n",
              "  background-color: var(--sklearn-color-background);\n",
              "}\n",
              "\n",
              "#sk-container-id-3 div.sk-container {\n",
              "  /* jupyter's `normalize.less` sets `[hidden] { display: none; }`\n",
              "     but bootstrap.min.css set `[hidden] { display: none !important; }`\n",
              "     so we also need the `!important` here to be able to override the\n",
              "     default hidden behavior on the sphinx rendered scikit-learn.org.\n",
              "     See: https://github.com/scikit-learn/scikit-learn/issues/21755 */\n",
              "  display: inline-block !important;\n",
              "  position: relative;\n",
              "}\n",
              "\n",
              "#sk-container-id-3 div.sk-text-repr-fallback {\n",
              "  display: none;\n",
              "}\n",
              "\n",
              "div.sk-parallel-item,\n",
              "div.sk-serial,\n",
              "div.sk-item {\n",
              "  /* draw centered vertical line to link estimators */\n",
              "  background-image: linear-gradient(var(--sklearn-color-text-on-default-background), var(--sklearn-color-text-on-default-background));\n",
              "  background-size: 2px 100%;\n",
              "  background-repeat: no-repeat;\n",
              "  background-position: center center;\n",
              "}\n",
              "\n",
              "/* Parallel-specific style estimator block */\n",
              "\n",
              "#sk-container-id-3 div.sk-parallel-item::after {\n",
              "  content: \"\";\n",
              "  width: 100%;\n",
              "  border-bottom: 2px solid var(--sklearn-color-text-on-default-background);\n",
              "  flex-grow: 1;\n",
              "}\n",
              "\n",
              "#sk-container-id-3 div.sk-parallel {\n",
              "  display: flex;\n",
              "  align-items: stretch;\n",
              "  justify-content: center;\n",
              "  background-color: var(--sklearn-color-background);\n",
              "  position: relative;\n",
              "}\n",
              "\n",
              "#sk-container-id-3 div.sk-parallel-item {\n",
              "  display: flex;\n",
              "  flex-direction: column;\n",
              "}\n",
              "\n",
              "#sk-container-id-3 div.sk-parallel-item:first-child::after {\n",
              "  align-self: flex-end;\n",
              "  width: 50%;\n",
              "}\n",
              "\n",
              "#sk-container-id-3 div.sk-parallel-item:last-child::after {\n",
              "  align-self: flex-start;\n",
              "  width: 50%;\n",
              "}\n",
              "\n",
              "#sk-container-id-3 div.sk-parallel-item:only-child::after {\n",
              "  width: 0;\n",
              "}\n",
              "\n",
              "/* Serial-specific style estimator block */\n",
              "\n",
              "#sk-container-id-3 div.sk-serial {\n",
              "  display: flex;\n",
              "  flex-direction: column;\n",
              "  align-items: center;\n",
              "  background-color: var(--sklearn-color-background);\n",
              "  padding-right: 1em;\n",
              "  padding-left: 1em;\n",
              "}\n",
              "\n",
              "\n",
              "/* Toggleable style: style used for estimator/Pipeline/ColumnTransformer box that is\n",
              "clickable and can be expanded/collapsed.\n",
              "- Pipeline and ColumnTransformer use this feature and define the default style\n",
              "- Estimators will overwrite some part of the style using the `sk-estimator` class\n",
              "*/\n",
              "\n",
              "/* Pipeline and ColumnTransformer style (default) */\n",
              "\n",
              "#sk-container-id-3 div.sk-toggleable {\n",
              "  /* Default theme specific background. It is overwritten whether we have a\n",
              "  specific estimator or a Pipeline/ColumnTransformer */\n",
              "  background-color: var(--sklearn-color-background);\n",
              "}\n",
              "\n",
              "/* Toggleable label */\n",
              "#sk-container-id-3 label.sk-toggleable__label {\n",
              "  cursor: pointer;\n",
              "  display: block;\n",
              "  width: 100%;\n",
              "  margin-bottom: 0;\n",
              "  padding: 0.5em;\n",
              "  box-sizing: border-box;\n",
              "  text-align: center;\n",
              "}\n",
              "\n",
              "#sk-container-id-3 label.sk-toggleable__label-arrow:before {\n",
              "  /* Arrow on the left of the label */\n",
              "  content: \"▸\";\n",
              "  float: left;\n",
              "  margin-right: 0.25em;\n",
              "  color: var(--sklearn-color-icon);\n",
              "}\n",
              "\n",
              "#sk-container-id-3 label.sk-toggleable__label-arrow:hover:before {\n",
              "  color: var(--sklearn-color-text);\n",
              "}\n",
              "\n",
              "/* Toggleable content - dropdown */\n",
              "\n",
              "#sk-container-id-3 div.sk-toggleable__content {\n",
              "  max-height: 0;\n",
              "  max-width: 0;\n",
              "  overflow: hidden;\n",
              "  text-align: left;\n",
              "  /* unfitted */\n",
              "  background-color: var(--sklearn-color-unfitted-level-0);\n",
              "}\n",
              "\n",
              "#sk-container-id-3 div.sk-toggleable__content.fitted {\n",
              "  /* fitted */\n",
              "  background-color: var(--sklearn-color-fitted-level-0);\n",
              "}\n",
              "\n",
              "#sk-container-id-3 div.sk-toggleable__content pre {\n",
              "  margin: 0.2em;\n",
              "  border-radius: 0.25em;\n",
              "  color: var(--sklearn-color-text);\n",
              "  /* unfitted */\n",
              "  background-color: var(--sklearn-color-unfitted-level-0);\n",
              "}\n",
              "\n",
              "#sk-container-id-3 div.sk-toggleable__content.fitted pre {\n",
              "  /* unfitted */\n",
              "  background-color: var(--sklearn-color-fitted-level-0);\n",
              "}\n",
              "\n",
              "#sk-container-id-3 input.sk-toggleable__control:checked~div.sk-toggleable__content {\n",
              "  /* Expand drop-down */\n",
              "  max-height: 200px;\n",
              "  max-width: 100%;\n",
              "  overflow: auto;\n",
              "}\n",
              "\n",
              "#sk-container-id-3 input.sk-toggleable__control:checked~label.sk-toggleable__label-arrow:before {\n",
              "  content: \"▾\";\n",
              "}\n",
              "\n",
              "/* Pipeline/ColumnTransformer-specific style */\n",
              "\n",
              "#sk-container-id-3 div.sk-label input.sk-toggleable__control:checked~label.sk-toggleable__label {\n",
              "  color: var(--sklearn-color-text);\n",
              "  background-color: var(--sklearn-color-unfitted-level-2);\n",
              "}\n",
              "\n",
              "#sk-container-id-3 div.sk-label.fitted input.sk-toggleable__control:checked~label.sk-toggleable__label {\n",
              "  background-color: var(--sklearn-color-fitted-level-2);\n",
              "}\n",
              "\n",
              "/* Estimator-specific style */\n",
              "\n",
              "/* Colorize estimator box */\n",
              "#sk-container-id-3 div.sk-estimator input.sk-toggleable__control:checked~label.sk-toggleable__label {\n",
              "  /* unfitted */\n",
              "  background-color: var(--sklearn-color-unfitted-level-2);\n",
              "}\n",
              "\n",
              "#sk-container-id-3 div.sk-estimator.fitted input.sk-toggleable__control:checked~label.sk-toggleable__label {\n",
              "  /* fitted */\n",
              "  background-color: var(--sklearn-color-fitted-level-2);\n",
              "}\n",
              "\n",
              "#sk-container-id-3 div.sk-label label.sk-toggleable__label,\n",
              "#sk-container-id-3 div.sk-label label {\n",
              "  /* The background is the default theme color */\n",
              "  color: var(--sklearn-color-text-on-default-background);\n",
              "}\n",
              "\n",
              "/* On hover, darken the color of the background */\n",
              "#sk-container-id-3 div.sk-label:hover label.sk-toggleable__label {\n",
              "  color: var(--sklearn-color-text);\n",
              "  background-color: var(--sklearn-color-unfitted-level-2);\n",
              "}\n",
              "\n",
              "/* Label box, darken color on hover, fitted */\n",
              "#sk-container-id-3 div.sk-label.fitted:hover label.sk-toggleable__label.fitted {\n",
              "  color: var(--sklearn-color-text);\n",
              "  background-color: var(--sklearn-color-fitted-level-2);\n",
              "}\n",
              "\n",
              "/* Estimator label */\n",
              "\n",
              "#sk-container-id-3 div.sk-label label {\n",
              "  font-family: monospace;\n",
              "  font-weight: bold;\n",
              "  display: inline-block;\n",
              "  line-height: 1.2em;\n",
              "}\n",
              "\n",
              "#sk-container-id-3 div.sk-label-container {\n",
              "  text-align: center;\n",
              "}\n",
              "\n",
              "/* Estimator-specific */\n",
              "#sk-container-id-3 div.sk-estimator {\n",
              "  font-family: monospace;\n",
              "  border: 1px dotted var(--sklearn-color-border-box);\n",
              "  border-radius: 0.25em;\n",
              "  box-sizing: border-box;\n",
              "  margin-bottom: 0.5em;\n",
              "  /* unfitted */\n",
              "  background-color: var(--sklearn-color-unfitted-level-0);\n",
              "}\n",
              "\n",
              "#sk-container-id-3 div.sk-estimator.fitted {\n",
              "  /* fitted */\n",
              "  background-color: var(--sklearn-color-fitted-level-0);\n",
              "}\n",
              "\n",
              "/* on hover */\n",
              "#sk-container-id-3 div.sk-estimator:hover {\n",
              "  /* unfitted */\n",
              "  background-color: var(--sklearn-color-unfitted-level-2);\n",
              "}\n",
              "\n",
              "#sk-container-id-3 div.sk-estimator.fitted:hover {\n",
              "  /* fitted */\n",
              "  background-color: var(--sklearn-color-fitted-level-2);\n",
              "}\n",
              "\n",
              "/* Specification for estimator info (e.g. \"i\" and \"?\") */\n",
              "\n",
              "/* Common style for \"i\" and \"?\" */\n",
              "\n",
              ".sk-estimator-doc-link,\n",
              "a:link.sk-estimator-doc-link,\n",
              "a:visited.sk-estimator-doc-link {\n",
              "  float: right;\n",
              "  font-size: smaller;\n",
              "  line-height: 1em;\n",
              "  font-family: monospace;\n",
              "  background-color: var(--sklearn-color-background);\n",
              "  border-radius: 1em;\n",
              "  height: 1em;\n",
              "  width: 1em;\n",
              "  text-decoration: none !important;\n",
              "  margin-left: 1ex;\n",
              "  /* unfitted */\n",
              "  border: var(--sklearn-color-unfitted-level-1) 1pt solid;\n",
              "  color: var(--sklearn-color-unfitted-level-1);\n",
              "}\n",
              "\n",
              ".sk-estimator-doc-link.fitted,\n",
              "a:link.sk-estimator-doc-link.fitted,\n",
              "a:visited.sk-estimator-doc-link.fitted {\n",
              "  /* fitted */\n",
              "  border: var(--sklearn-color-fitted-level-1) 1pt solid;\n",
              "  color: var(--sklearn-color-fitted-level-1);\n",
              "}\n",
              "\n",
              "/* On hover */\n",
              "div.sk-estimator:hover .sk-estimator-doc-link:hover,\n",
              ".sk-estimator-doc-link:hover,\n",
              "div.sk-label-container:hover .sk-estimator-doc-link:hover,\n",
              ".sk-estimator-doc-link:hover {\n",
              "  /* unfitted */\n",
              "  background-color: var(--sklearn-color-unfitted-level-3);\n",
              "  color: var(--sklearn-color-background);\n",
              "  text-decoration: none;\n",
              "}\n",
              "\n",
              "div.sk-estimator.fitted:hover .sk-estimator-doc-link.fitted:hover,\n",
              ".sk-estimator-doc-link.fitted:hover,\n",
              "div.sk-label-container:hover .sk-estimator-doc-link.fitted:hover,\n",
              ".sk-estimator-doc-link.fitted:hover {\n",
              "  /* fitted */\n",
              "  background-color: var(--sklearn-color-fitted-level-3);\n",
              "  color: var(--sklearn-color-background);\n",
              "  text-decoration: none;\n",
              "}\n",
              "\n",
              "/* Span, style for the box shown on hovering the info icon */\n",
              ".sk-estimator-doc-link span {\n",
              "  display: none;\n",
              "  z-index: 9999;\n",
              "  position: relative;\n",
              "  font-weight: normal;\n",
              "  right: .2ex;\n",
              "  padding: .5ex;\n",
              "  margin: .5ex;\n",
              "  width: min-content;\n",
              "  min-width: 20ex;\n",
              "  max-width: 50ex;\n",
              "  color: var(--sklearn-color-text);\n",
              "  box-shadow: 2pt 2pt 4pt #999;\n",
              "  /* unfitted */\n",
              "  background: var(--sklearn-color-unfitted-level-0);\n",
              "  border: .5pt solid var(--sklearn-color-unfitted-level-3);\n",
              "}\n",
              "\n",
              ".sk-estimator-doc-link.fitted span {\n",
              "  /* fitted */\n",
              "  background: var(--sklearn-color-fitted-level-0);\n",
              "  border: var(--sklearn-color-fitted-level-3);\n",
              "}\n",
              "\n",
              ".sk-estimator-doc-link:hover span {\n",
              "  display: block;\n",
              "}\n",
              "\n",
              "/* \"?\"-specific style due to the `<a>` HTML tag */\n",
              "\n",
              "#sk-container-id-3 a.estimator_doc_link {\n",
              "  float: right;\n",
              "  font-size: 1rem;\n",
              "  line-height: 1em;\n",
              "  font-family: monospace;\n",
              "  background-color: var(--sklearn-color-background);\n",
              "  border-radius: 1rem;\n",
              "  height: 1rem;\n",
              "  width: 1rem;\n",
              "  text-decoration: none;\n",
              "  /* unfitted */\n",
              "  color: var(--sklearn-color-unfitted-level-1);\n",
              "  border: var(--sklearn-color-unfitted-level-1) 1pt solid;\n",
              "}\n",
              "\n",
              "#sk-container-id-3 a.estimator_doc_link.fitted {\n",
              "  /* fitted */\n",
              "  border: var(--sklearn-color-fitted-level-1) 1pt solid;\n",
              "  color: var(--sklearn-color-fitted-level-1);\n",
              "}\n",
              "\n",
              "/* On hover */\n",
              "#sk-container-id-3 a.estimator_doc_link:hover {\n",
              "  /* unfitted */\n",
              "  background-color: var(--sklearn-color-unfitted-level-3);\n",
              "  color: var(--sklearn-color-background);\n",
              "  text-decoration: none;\n",
              "}\n",
              "\n",
              "#sk-container-id-3 a.estimator_doc_link.fitted:hover {\n",
              "  /* fitted */\n",
              "  background-color: var(--sklearn-color-fitted-level-3);\n",
              "}\n",
              "</style><div id=\"sk-container-id-3\" class=\"sk-top-container\"><div class=\"sk-text-repr-fallback\"><pre>RandomizedSearchCV(cv=5, estimator=RandomForestRegressor(), n_iter=100,\n",
              "                   n_jobs=-1,\n",
              "                   param_distributions={&#x27;bootstrap&#x27;: [True, False],\n",
              "                                        &#x27;max_depth&#x27;: [10, 20, 30, 40, 50, 60,\n",
              "                                                      70, 80, 90, 100, 110,\n",
              "                                                      120],\n",
              "                                        &#x27;max_features&#x27;: [&#x27;auto&#x27;, &#x27;sqrt&#x27;],\n",
              "                                        &#x27;min_samples_leaf&#x27;: [1, 2, 4],\n",
              "                                        &#x27;min_samples_split&#x27;: [2, 6, 10],\n",
              "                                        &#x27;n_estimators&#x27;: [5, 20, 50, 100]},\n",
              "                   random_state=35, verbose=2)</pre><b>In a Jupyter environment, please rerun this cell to show the HTML representation or trust the notebook. <br />On GitHub, the HTML representation is unable to render, please try loading this page with nbviewer.org.</b></div><div class=\"sk-container\" hidden><div class=\"sk-item sk-dashed-wrapped\"><div class=\"sk-label-container\"><div class=\"sk-label fitted sk-toggleable\"><input class=\"sk-toggleable__control sk-hidden--visually\" id=\"sk-estimator-id-5\" type=\"checkbox\" ><label for=\"sk-estimator-id-5\" class=\"sk-toggleable__label fitted sk-toggleable__label-arrow fitted\">&nbsp;&nbsp;RandomizedSearchCV<a class=\"sk-estimator-doc-link fitted\" rel=\"noreferrer\" target=\"_blank\" href=\"https://scikit-learn.org/1.5/modules/generated/sklearn.model_selection.RandomizedSearchCV.html\">?<span>Documentation for RandomizedSearchCV</span></a><span class=\"sk-estimator-doc-link fitted\">i<span>Fitted</span></span></label><div class=\"sk-toggleable__content fitted\"><pre>RandomizedSearchCV(cv=5, estimator=RandomForestRegressor(), n_iter=100,\n",
              "                   n_jobs=-1,\n",
              "                   param_distributions={&#x27;bootstrap&#x27;: [True, False],\n",
              "                                        &#x27;max_depth&#x27;: [10, 20, 30, 40, 50, 60,\n",
              "                                                      70, 80, 90, 100, 110,\n",
              "                                                      120],\n",
              "                                        &#x27;max_features&#x27;: [&#x27;auto&#x27;, &#x27;sqrt&#x27;],\n",
              "                                        &#x27;min_samples_leaf&#x27;: [1, 2, 4],\n",
              "                                        &#x27;min_samples_split&#x27;: [2, 6, 10],\n",
              "                                        &#x27;n_estimators&#x27;: [5, 20, 50, 100]},\n",
              "                   random_state=35, verbose=2)</pre></div> </div></div><div class=\"sk-parallel\"><div class=\"sk-parallel-item\"><div class=\"sk-item\"><div class=\"sk-label-container\"><div class=\"sk-label fitted sk-toggleable\"><input class=\"sk-toggleable__control sk-hidden--visually\" id=\"sk-estimator-id-6\" type=\"checkbox\" ><label for=\"sk-estimator-id-6\" class=\"sk-toggleable__label fitted sk-toggleable__label-arrow fitted\">best_estimator_: RandomForestRegressor</label><div class=\"sk-toggleable__content fitted\"><pre>RandomForestRegressor(max_depth=120, max_features=&#x27;sqrt&#x27;)</pre></div> </div></div><div class=\"sk-serial\"><div class=\"sk-item\"><div class=\"sk-estimator fitted sk-toggleable\"><input class=\"sk-toggleable__control sk-hidden--visually\" id=\"sk-estimator-id-7\" type=\"checkbox\" ><label for=\"sk-estimator-id-7\" class=\"sk-toggleable__label fitted sk-toggleable__label-arrow fitted\">&nbsp;RandomForestRegressor<a class=\"sk-estimator-doc-link fitted\" rel=\"noreferrer\" target=\"_blank\" href=\"https://scikit-learn.org/1.5/modules/generated/sklearn.ensemble.RandomForestRegressor.html\">?<span>Documentation for RandomForestRegressor</span></a></label><div class=\"sk-toggleable__content fitted\"><pre>RandomForestRegressor(max_depth=120, max_features=&#x27;sqrt&#x27;)</pre></div> </div></div></div></div></div></div></div></div></div>"
            ],
            "text/plain": [
              "RandomizedSearchCV(cv=5, estimator=RandomForestRegressor(), n_iter=100,\n",
              "                   n_jobs=-1,\n",
              "                   param_distributions={'bootstrap': [True, False],\n",
              "                                        'max_depth': [10, 20, 30, 40, 50, 60,\n",
              "                                                      70, 80, 90, 100, 110,\n",
              "                                                      120],\n",
              "                                        'max_features': ['auto', 'sqrt'],\n",
              "                                        'min_samples_leaf': [1, 2, 4],\n",
              "                                        'min_samples_split': [2, 6, 10],\n",
              "                                        'n_estimators': [5, 20, 50, 100]},\n",
              "                   random_state=35, verbose=2)"
            ]
          },
          "execution_count": 88,
          "metadata": {},
          "output_type": "execute_result"
        }
      ],
      "source": [
        "from sklearn.ensemble import RandomForestRegressor  \n",
        "from sklearn.model_selection import RandomizedSearchCV\n",
        "\n",
        "rf = RandomForestRegressor()  \n",
        "random_grid = {\n",
        "    'n_estimators': [5, 20, 50, 100],\n",
        "    'max_features': ['auto', 'sqrt'],\n",
        "    'max_depth': [10, 20, 30, 40, 50, 60, 70, 80, 90, 100, 110,120],\n",
        "    'min_samples_split': [2, 6, 10],\n",
        "    'min_samples_leaf': [1, 2, 4],\n",
        "    'bootstrap': [True, False]\n",
        "}\n",
        "rf_random = RandomizedSearchCV(estimator=rf, param_distributions=random_grid,\n",
        "                               n_iter=100, cv=5, verbose=2, random_state=35, n_jobs=-1)\n",
        "rf_random.fit(X_train, y_train) "
      ]
    },
    {
      "cell_type": "code",
      "execution_count": 89,
      "metadata": {
        "id": "kCdXhYDhsQrh",
        "outputId": "e774fdf6-f20c-4c13-cb0d-8d71710e0806"
      },
      "outputs": [
        {
          "name": "stdout",
          "output_type": "stream",
          "text": [
            "Best Parameters:  {'n_estimators': 100, 'min_samples_split': 2, 'min_samples_leaf': 1, 'max_features': 'sqrt', 'max_depth': 120, 'bootstrap': True}  \n",
            "\n"
          ]
        }
      ],
      "source": [
        "# Print the best parameters\n",
        "print ('Best Parameters: ', rf_random.best_params_, ' \\n')"
      ]
    },
    {
      "cell_type": "code",
      "execution_count": 90,
      "metadata": {
        "id": "kaqsYljTsQrh",
        "outputId": "382d3ecc-4424-4501-e69e-b5fc4123ed19"
      },
      "outputs": [
        {
          "data": {
            "text/html": [
              "<style>#sk-container-id-4 {\n",
              "  /* Definition of color scheme common for light and dark mode */\n",
              "  --sklearn-color-text: black;\n",
              "  --sklearn-color-line: gray;\n",
              "  /* Definition of color scheme for unfitted estimators */\n",
              "  --sklearn-color-unfitted-level-0: #fff5e6;\n",
              "  --sklearn-color-unfitted-level-1: #f6e4d2;\n",
              "  --sklearn-color-unfitted-level-2: #ffe0b3;\n",
              "  --sklearn-color-unfitted-level-3: chocolate;\n",
              "  /* Definition of color scheme for fitted estimators */\n",
              "  --sklearn-color-fitted-level-0: #f0f8ff;\n",
              "  --sklearn-color-fitted-level-1: #d4ebff;\n",
              "  --sklearn-color-fitted-level-2: #b3dbfd;\n",
              "  --sklearn-color-fitted-level-3: cornflowerblue;\n",
              "\n",
              "  /* Specific color for light theme */\n",
              "  --sklearn-color-text-on-default-background: var(--sg-text-color, var(--theme-code-foreground, var(--jp-content-font-color1, black)));\n",
              "  --sklearn-color-background: var(--sg-background-color, var(--theme-background, var(--jp-layout-color0, white)));\n",
              "  --sklearn-color-border-box: var(--sg-text-color, var(--theme-code-foreground, var(--jp-content-font-color1, black)));\n",
              "  --sklearn-color-icon: #696969;\n",
              "\n",
              "  @media (prefers-color-scheme: dark) {\n",
              "    /* Redefinition of color scheme for dark theme */\n",
              "    --sklearn-color-text-on-default-background: var(--sg-text-color, var(--theme-code-foreground, var(--jp-content-font-color1, white)));\n",
              "    --sklearn-color-background: var(--sg-background-color, var(--theme-background, var(--jp-layout-color0, #111)));\n",
              "    --sklearn-color-border-box: var(--sg-text-color, var(--theme-code-foreground, var(--jp-content-font-color1, white)));\n",
              "    --sklearn-color-icon: #878787;\n",
              "  }\n",
              "}\n",
              "\n",
              "#sk-container-id-4 {\n",
              "  color: var(--sklearn-color-text);\n",
              "}\n",
              "\n",
              "#sk-container-id-4 pre {\n",
              "  padding: 0;\n",
              "}\n",
              "\n",
              "#sk-container-id-4 input.sk-hidden--visually {\n",
              "  border: 0;\n",
              "  clip: rect(1px 1px 1px 1px);\n",
              "  clip: rect(1px, 1px, 1px, 1px);\n",
              "  height: 1px;\n",
              "  margin: -1px;\n",
              "  overflow: hidden;\n",
              "  padding: 0;\n",
              "  position: absolute;\n",
              "  width: 1px;\n",
              "}\n",
              "\n",
              "#sk-container-id-4 div.sk-dashed-wrapped {\n",
              "  border: 1px dashed var(--sklearn-color-line);\n",
              "  margin: 0 0.4em 0.5em 0.4em;\n",
              "  box-sizing: border-box;\n",
              "  padding-bottom: 0.4em;\n",
              "  background-color: var(--sklearn-color-background);\n",
              "}\n",
              "\n",
              "#sk-container-id-4 div.sk-container {\n",
              "  /* jupyter's `normalize.less` sets `[hidden] { display: none; }`\n",
              "     but bootstrap.min.css set `[hidden] { display: none !important; }`\n",
              "     so we also need the `!important` here to be able to override the\n",
              "     default hidden behavior on the sphinx rendered scikit-learn.org.\n",
              "     See: https://github.com/scikit-learn/scikit-learn/issues/21755 */\n",
              "  display: inline-block !important;\n",
              "  position: relative;\n",
              "}\n",
              "\n",
              "#sk-container-id-4 div.sk-text-repr-fallback {\n",
              "  display: none;\n",
              "}\n",
              "\n",
              "div.sk-parallel-item,\n",
              "div.sk-serial,\n",
              "div.sk-item {\n",
              "  /* draw centered vertical line to link estimators */\n",
              "  background-image: linear-gradient(var(--sklearn-color-text-on-default-background), var(--sklearn-color-text-on-default-background));\n",
              "  background-size: 2px 100%;\n",
              "  background-repeat: no-repeat;\n",
              "  background-position: center center;\n",
              "}\n",
              "\n",
              "/* Parallel-specific style estimator block */\n",
              "\n",
              "#sk-container-id-4 div.sk-parallel-item::after {\n",
              "  content: \"\";\n",
              "  width: 100%;\n",
              "  border-bottom: 2px solid var(--sklearn-color-text-on-default-background);\n",
              "  flex-grow: 1;\n",
              "}\n",
              "\n",
              "#sk-container-id-4 div.sk-parallel {\n",
              "  display: flex;\n",
              "  align-items: stretch;\n",
              "  justify-content: center;\n",
              "  background-color: var(--sklearn-color-background);\n",
              "  position: relative;\n",
              "}\n",
              "\n",
              "#sk-container-id-4 div.sk-parallel-item {\n",
              "  display: flex;\n",
              "  flex-direction: column;\n",
              "}\n",
              "\n",
              "#sk-container-id-4 div.sk-parallel-item:first-child::after {\n",
              "  align-self: flex-end;\n",
              "  width: 50%;\n",
              "}\n",
              "\n",
              "#sk-container-id-4 div.sk-parallel-item:last-child::after {\n",
              "  align-self: flex-start;\n",
              "  width: 50%;\n",
              "}\n",
              "\n",
              "#sk-container-id-4 div.sk-parallel-item:only-child::after {\n",
              "  width: 0;\n",
              "}\n",
              "\n",
              "/* Serial-specific style estimator block */\n",
              "\n",
              "#sk-container-id-4 div.sk-serial {\n",
              "  display: flex;\n",
              "  flex-direction: column;\n",
              "  align-items: center;\n",
              "  background-color: var(--sklearn-color-background);\n",
              "  padding-right: 1em;\n",
              "  padding-left: 1em;\n",
              "}\n",
              "\n",
              "\n",
              "/* Toggleable style: style used for estimator/Pipeline/ColumnTransformer box that is\n",
              "clickable and can be expanded/collapsed.\n",
              "- Pipeline and ColumnTransformer use this feature and define the default style\n",
              "- Estimators will overwrite some part of the style using the `sk-estimator` class\n",
              "*/\n",
              "\n",
              "/* Pipeline and ColumnTransformer style (default) */\n",
              "\n",
              "#sk-container-id-4 div.sk-toggleable {\n",
              "  /* Default theme specific background. It is overwritten whether we have a\n",
              "  specific estimator or a Pipeline/ColumnTransformer */\n",
              "  background-color: var(--sklearn-color-background);\n",
              "}\n",
              "\n",
              "/* Toggleable label */\n",
              "#sk-container-id-4 label.sk-toggleable__label {\n",
              "  cursor: pointer;\n",
              "  display: block;\n",
              "  width: 100%;\n",
              "  margin-bottom: 0;\n",
              "  padding: 0.5em;\n",
              "  box-sizing: border-box;\n",
              "  text-align: center;\n",
              "}\n",
              "\n",
              "#sk-container-id-4 label.sk-toggleable__label-arrow:before {\n",
              "  /* Arrow on the left of the label */\n",
              "  content: \"▸\";\n",
              "  float: left;\n",
              "  margin-right: 0.25em;\n",
              "  color: var(--sklearn-color-icon);\n",
              "}\n",
              "\n",
              "#sk-container-id-4 label.sk-toggleable__label-arrow:hover:before {\n",
              "  color: var(--sklearn-color-text);\n",
              "}\n",
              "\n",
              "/* Toggleable content - dropdown */\n",
              "\n",
              "#sk-container-id-4 div.sk-toggleable__content {\n",
              "  max-height: 0;\n",
              "  max-width: 0;\n",
              "  overflow: hidden;\n",
              "  text-align: left;\n",
              "  /* unfitted */\n",
              "  background-color: var(--sklearn-color-unfitted-level-0);\n",
              "}\n",
              "\n",
              "#sk-container-id-4 div.sk-toggleable__content.fitted {\n",
              "  /* fitted */\n",
              "  background-color: var(--sklearn-color-fitted-level-0);\n",
              "}\n",
              "\n",
              "#sk-container-id-4 div.sk-toggleable__content pre {\n",
              "  margin: 0.2em;\n",
              "  border-radius: 0.25em;\n",
              "  color: var(--sklearn-color-text);\n",
              "  /* unfitted */\n",
              "  background-color: var(--sklearn-color-unfitted-level-0);\n",
              "}\n",
              "\n",
              "#sk-container-id-4 div.sk-toggleable__content.fitted pre {\n",
              "  /* unfitted */\n",
              "  background-color: var(--sklearn-color-fitted-level-0);\n",
              "}\n",
              "\n",
              "#sk-container-id-4 input.sk-toggleable__control:checked~div.sk-toggleable__content {\n",
              "  /* Expand drop-down */\n",
              "  max-height: 200px;\n",
              "  max-width: 100%;\n",
              "  overflow: auto;\n",
              "}\n",
              "\n",
              "#sk-container-id-4 input.sk-toggleable__control:checked~label.sk-toggleable__label-arrow:before {\n",
              "  content: \"▾\";\n",
              "}\n",
              "\n",
              "/* Pipeline/ColumnTransformer-specific style */\n",
              "\n",
              "#sk-container-id-4 div.sk-label input.sk-toggleable__control:checked~label.sk-toggleable__label {\n",
              "  color: var(--sklearn-color-text);\n",
              "  background-color: var(--sklearn-color-unfitted-level-2);\n",
              "}\n",
              "\n",
              "#sk-container-id-4 div.sk-label.fitted input.sk-toggleable__control:checked~label.sk-toggleable__label {\n",
              "  background-color: var(--sklearn-color-fitted-level-2);\n",
              "}\n",
              "\n",
              "/* Estimator-specific style */\n",
              "\n",
              "/* Colorize estimator box */\n",
              "#sk-container-id-4 div.sk-estimator input.sk-toggleable__control:checked~label.sk-toggleable__label {\n",
              "  /* unfitted */\n",
              "  background-color: var(--sklearn-color-unfitted-level-2);\n",
              "}\n",
              "\n",
              "#sk-container-id-4 div.sk-estimator.fitted input.sk-toggleable__control:checked~label.sk-toggleable__label {\n",
              "  /* fitted */\n",
              "  background-color: var(--sklearn-color-fitted-level-2);\n",
              "}\n",
              "\n",
              "#sk-container-id-4 div.sk-label label.sk-toggleable__label,\n",
              "#sk-container-id-4 div.sk-label label {\n",
              "  /* The background is the default theme color */\n",
              "  color: var(--sklearn-color-text-on-default-background);\n",
              "}\n",
              "\n",
              "/* On hover, darken the color of the background */\n",
              "#sk-container-id-4 div.sk-label:hover label.sk-toggleable__label {\n",
              "  color: var(--sklearn-color-text);\n",
              "  background-color: var(--sklearn-color-unfitted-level-2);\n",
              "}\n",
              "\n",
              "/* Label box, darken color on hover, fitted */\n",
              "#sk-container-id-4 div.sk-label.fitted:hover label.sk-toggleable__label.fitted {\n",
              "  color: var(--sklearn-color-text);\n",
              "  background-color: var(--sklearn-color-fitted-level-2);\n",
              "}\n",
              "\n",
              "/* Estimator label */\n",
              "\n",
              "#sk-container-id-4 div.sk-label label {\n",
              "  font-family: monospace;\n",
              "  font-weight: bold;\n",
              "  display: inline-block;\n",
              "  line-height: 1.2em;\n",
              "}\n",
              "\n",
              "#sk-container-id-4 div.sk-label-container {\n",
              "  text-align: center;\n",
              "}\n",
              "\n",
              "/* Estimator-specific */\n",
              "#sk-container-id-4 div.sk-estimator {\n",
              "  font-family: monospace;\n",
              "  border: 1px dotted var(--sklearn-color-border-box);\n",
              "  border-radius: 0.25em;\n",
              "  box-sizing: border-box;\n",
              "  margin-bottom: 0.5em;\n",
              "  /* unfitted */\n",
              "  background-color: var(--sklearn-color-unfitted-level-0);\n",
              "}\n",
              "\n",
              "#sk-container-id-4 div.sk-estimator.fitted {\n",
              "  /* fitted */\n",
              "  background-color: var(--sklearn-color-fitted-level-0);\n",
              "}\n",
              "\n",
              "/* on hover */\n",
              "#sk-container-id-4 div.sk-estimator:hover {\n",
              "  /* unfitted */\n",
              "  background-color: var(--sklearn-color-unfitted-level-2);\n",
              "}\n",
              "\n",
              "#sk-container-id-4 div.sk-estimator.fitted:hover {\n",
              "  /* fitted */\n",
              "  background-color: var(--sklearn-color-fitted-level-2);\n",
              "}\n",
              "\n",
              "/* Specification for estimator info (e.g. \"i\" and \"?\") */\n",
              "\n",
              "/* Common style for \"i\" and \"?\" */\n",
              "\n",
              ".sk-estimator-doc-link,\n",
              "a:link.sk-estimator-doc-link,\n",
              "a:visited.sk-estimator-doc-link {\n",
              "  float: right;\n",
              "  font-size: smaller;\n",
              "  line-height: 1em;\n",
              "  font-family: monospace;\n",
              "  background-color: var(--sklearn-color-background);\n",
              "  border-radius: 1em;\n",
              "  height: 1em;\n",
              "  width: 1em;\n",
              "  text-decoration: none !important;\n",
              "  margin-left: 1ex;\n",
              "  /* unfitted */\n",
              "  border: var(--sklearn-color-unfitted-level-1) 1pt solid;\n",
              "  color: var(--sklearn-color-unfitted-level-1);\n",
              "}\n",
              "\n",
              ".sk-estimator-doc-link.fitted,\n",
              "a:link.sk-estimator-doc-link.fitted,\n",
              "a:visited.sk-estimator-doc-link.fitted {\n",
              "  /* fitted */\n",
              "  border: var(--sklearn-color-fitted-level-1) 1pt solid;\n",
              "  color: var(--sklearn-color-fitted-level-1);\n",
              "}\n",
              "\n",
              "/* On hover */\n",
              "div.sk-estimator:hover .sk-estimator-doc-link:hover,\n",
              ".sk-estimator-doc-link:hover,\n",
              "div.sk-label-container:hover .sk-estimator-doc-link:hover,\n",
              ".sk-estimator-doc-link:hover {\n",
              "  /* unfitted */\n",
              "  background-color: var(--sklearn-color-unfitted-level-3);\n",
              "  color: var(--sklearn-color-background);\n",
              "  text-decoration: none;\n",
              "}\n",
              "\n",
              "div.sk-estimator.fitted:hover .sk-estimator-doc-link.fitted:hover,\n",
              ".sk-estimator-doc-link.fitted:hover,\n",
              "div.sk-label-container:hover .sk-estimator-doc-link.fitted:hover,\n",
              ".sk-estimator-doc-link.fitted:hover {\n",
              "  /* fitted */\n",
              "  background-color: var(--sklearn-color-fitted-level-3);\n",
              "  color: var(--sklearn-color-background);\n",
              "  text-decoration: none;\n",
              "}\n",
              "\n",
              "/* Span, style for the box shown on hovering the info icon */\n",
              ".sk-estimator-doc-link span {\n",
              "  display: none;\n",
              "  z-index: 9999;\n",
              "  position: relative;\n",
              "  font-weight: normal;\n",
              "  right: .2ex;\n",
              "  padding: .5ex;\n",
              "  margin: .5ex;\n",
              "  width: min-content;\n",
              "  min-width: 20ex;\n",
              "  max-width: 50ex;\n",
              "  color: var(--sklearn-color-text);\n",
              "  box-shadow: 2pt 2pt 4pt #999;\n",
              "  /* unfitted */\n",
              "  background: var(--sklearn-color-unfitted-level-0);\n",
              "  border: .5pt solid var(--sklearn-color-unfitted-level-3);\n",
              "}\n",
              "\n",
              ".sk-estimator-doc-link.fitted span {\n",
              "  /* fitted */\n",
              "  background: var(--sklearn-color-fitted-level-0);\n",
              "  border: var(--sklearn-color-fitted-level-3);\n",
              "}\n",
              "\n",
              ".sk-estimator-doc-link:hover span {\n",
              "  display: block;\n",
              "}\n",
              "\n",
              "/* \"?\"-specific style due to the `<a>` HTML tag */\n",
              "\n",
              "#sk-container-id-4 a.estimator_doc_link {\n",
              "  float: right;\n",
              "  font-size: 1rem;\n",
              "  line-height: 1em;\n",
              "  font-family: monospace;\n",
              "  background-color: var(--sklearn-color-background);\n",
              "  border-radius: 1rem;\n",
              "  height: 1rem;\n",
              "  width: 1rem;\n",
              "  text-decoration: none;\n",
              "  /* unfitted */\n",
              "  color: var(--sklearn-color-unfitted-level-1);\n",
              "  border: var(--sklearn-color-unfitted-level-1) 1pt solid;\n",
              "}\n",
              "\n",
              "#sk-container-id-4 a.estimator_doc_link.fitted {\n",
              "  /* fitted */\n",
              "  border: var(--sklearn-color-fitted-level-1) 1pt solid;\n",
              "  color: var(--sklearn-color-fitted-level-1);\n",
              "}\n",
              "\n",
              "/* On hover */\n",
              "#sk-container-id-4 a.estimator_doc_link:hover {\n",
              "  /* unfitted */\n",
              "  background-color: var(--sklearn-color-unfitted-level-3);\n",
              "  color: var(--sklearn-color-background);\n",
              "  text-decoration: none;\n",
              "}\n",
              "\n",
              "#sk-container-id-4 a.estimator_doc_link.fitted:hover {\n",
              "  /* fitted */\n",
              "  background-color: var(--sklearn-color-fitted-level-3);\n",
              "}\n",
              "</style><div id=\"sk-container-id-4\" class=\"sk-top-container\"><div class=\"sk-text-repr-fallback\"><pre>RandomForestRegressor(max_depth=120, max_features=&#x27;sqrt&#x27;)</pre><b>In a Jupyter environment, please rerun this cell to show the HTML representation or trust the notebook. <br />On GitHub, the HTML representation is unable to render, please try loading this page with nbviewer.org.</b></div><div class=\"sk-container\" hidden><div class=\"sk-item\"><div class=\"sk-estimator fitted sk-toggleable\"><input class=\"sk-toggleable__control sk-hidden--visually\" id=\"sk-estimator-id-8\" type=\"checkbox\" checked><label for=\"sk-estimator-id-8\" class=\"sk-toggleable__label fitted sk-toggleable__label-arrow fitted\">&nbsp;&nbsp;RandomForestRegressor<a class=\"sk-estimator-doc-link fitted\" rel=\"noreferrer\" target=\"_blank\" href=\"https://scikit-learn.org/1.5/modules/generated/sklearn.ensemble.RandomForestRegressor.html\">?<span>Documentation for RandomForestRegressor</span></a><span class=\"sk-estimator-doc-link fitted\">i<span>Fitted</span></span></label><div class=\"sk-toggleable__content fitted\"><pre>RandomForestRegressor(max_depth=120, max_features=&#x27;sqrt&#x27;)</pre></div> </div></div></div></div>"
            ],
            "text/plain": [
              "RandomForestRegressor(max_depth=120, max_features='sqrt')"
            ]
          },
          "execution_count": 90,
          "metadata": {},
          "output_type": "execute_result"
        }
      ],
      "source": [
        "# Using the best parameters\n",
        "randmf = RandomForestRegressor(n_estimators = 100, min_samples_split = 2, min_samples_leaf= 1, max_features = 'sqrt', max_depth= 120, bootstrap=True)\n",
        "randmf.fit(X_train, y_train)"
      ]
    },
    {
      "cell_type": "code",
      "execution_count": 91,
      "metadata": {
        "id": "m_GaBW-rsQrh",
        "outputId": "52157b2e-18cb-4daa-f09a-d2ac14fd2c79"
      },
      "outputs": [
        {
          "data": {
            "text/html": [
              "<div>\n",
              "<style scoped>\n",
              "    .dataframe tbody tr th:only-of-type {\n",
              "        vertical-align: middle;\n",
              "    }\n",
              "\n",
              "    .dataframe tbody tr th {\n",
              "        vertical-align: top;\n",
              "    }\n",
              "\n",
              "    .dataframe thead th {\n",
              "        text-align: right;\n",
              "    }\n",
              "</style>\n",
              "<table border=\"1\" class=\"dataframe\">\n",
              "  <thead>\n",
              "    <tr style=\"text-align: right;\">\n",
              "      <th></th>\n",
              "      <th>Before</th>\n",
              "      <th>After</th>\n",
              "    </tr>\n",
              "  </thead>\n",
              "  <tbody>\n",
              "    <tr>\n",
              "      <th>175</th>\n",
              "      <td>1.067820e+09</td>\n",
              "      <td>994366305.0</td>\n",
              "    </tr>\n",
              "    <tr>\n",
              "      <th>1100</th>\n",
              "      <td>4.517700e+08</td>\n",
              "      <td>431193930.0</td>\n",
              "    </tr>\n",
              "    <tr>\n",
              "      <th>3746</th>\n",
              "      <td>1.683870e+08</td>\n",
              "      <td>164054115.0</td>\n",
              "    </tr>\n",
              "    <tr>\n",
              "      <th>4114</th>\n",
              "      <td>1.437450e+08</td>\n",
              "      <td>193193280.0</td>\n",
              "    </tr>\n",
              "    <tr>\n",
              "      <th>3696</th>\n",
              "      <td>1.724940e+08</td>\n",
              "      <td>181200840.0</td>\n",
              "    </tr>\n",
              "    <tr>\n",
              "      <th>...</th>\n",
              "      <td>...</td>\n",
              "      <td>...</td>\n",
              "    </tr>\n",
              "    <tr>\n",
              "      <th>4596</th>\n",
              "      <td>1.129425e+08</td>\n",
              "      <td>123251070.0</td>\n",
              "    </tr>\n",
              "    <tr>\n",
              "      <th>2379</th>\n",
              "      <td>2.669550e+08</td>\n",
              "      <td>219806640.0</td>\n",
              "    </tr>\n",
              "    <tr>\n",
              "      <th>5342</th>\n",
              "      <td>2.874900e+07</td>\n",
              "      <td>121710945.0</td>\n",
              "    </tr>\n",
              "    <tr>\n",
              "      <th>1282</th>\n",
              "      <td>4.065930e+08</td>\n",
              "      <td>400001265.0</td>\n",
              "    </tr>\n",
              "    <tr>\n",
              "      <th>4746</th>\n",
              "      <td>1.026750e+08</td>\n",
              "      <td>159248925.0</td>\n",
              "    </tr>\n",
              "  </tbody>\n",
              "</table>\n",
              "<p>1288 rows × 2 columns</p>\n",
              "</div>"
            ],
            "text/plain": [
              "            Before        After\n",
              "175   1.067820e+09  994366305.0\n",
              "1100  4.517700e+08  431193930.0\n",
              "3746  1.683870e+08  164054115.0\n",
              "4114  1.437450e+08  193193280.0\n",
              "3696  1.724940e+08  181200840.0\n",
              "...            ...          ...\n",
              "4596  1.129425e+08  123251070.0\n",
              "2379  2.669550e+08  219806640.0\n",
              "5342  2.874900e+07  121710945.0\n",
              "1282  4.065930e+08  400001265.0\n",
              "4746  1.026750e+08  159248925.0\n",
              "\n",
              "[1288 rows x 2 columns]"
            ]
          },
          "execution_count": 91,
          "metadata": {},
          "output_type": "execute_result"
        }
      ],
      "source": [
        "# Comparison the val of prediction Before & After Tuning\n",
        "comparison = pd.DataFrame( { \"Before\": y_test,\n",
        "\"After\": randmf.predict(\n",
        "( X_test ) ) } )\n",
        "comparison"
      ]
    },
    {
      "cell_type": "code",
      "execution_count": 92,
      "metadata": {
        "id": "iY-9uyr7sQri",
        "outputId": "31bcfb38-44ce-47ef-bcf7-33a846241d25"
      },
      "outputs": [
        {
          "name": "stdout",
          "output_type": "stream",
          "text": [
            "Model Performance\n",
            "Average Error: 64358066.7591 degrees.\n",
            "Accuracy = 76.00%.\n"
          ]
        }
      ],
      "source": [
        "def evaluate(model, X_train, y_train):\n",
        "    predictions = model.predict(X_test)\n",
        "    errors = abs(predictions - y_test)\n",
        "    mape = 100 * np.mean(errors / y_test)\n",
        "    accuracy = 100 - mape\n",
        "    print('Model Performance')\n",
        "    print('Average Error: {:0.4f} degrees.'.format(np.mean(errors)))\n",
        "    print('Accuracy = {:0.2f}%.'.format(accuracy))\n",
        "\n",
        "    return accuracy\n",
        "base_model = RandomForestRegressor(n_estimators = 10, random_state = 42)\n",
        "base_model.fit(X_train, y_train)\n",
        "base_accuracy = evaluate(base_model, X_test, y_test)"
      ]
    },
    {
      "cell_type": "markdown",
      "metadata": {
        "id": "o4x2I8qysQri"
      },
      "source": [
        "As we can see, the result of accuracy hyperparameter tunning is just on 76%. this mean that is way better to doing and get the model on random forest before hyperparameter tuning 84.29%.\n",
        "\n",
        "Now we see the Actual vs Prediction Price on our model (**RANDOM FOREST REGRESSOR - Non Tuning**) below"
      ]
    },
    {
      "cell_type": "code",
      "execution_count": 93,
      "metadata": {},
      "outputs": [],
      "source": [
        "import matplotlib.pyplot as plt\n",
        "import seaborn as sns"
      ]
    },
    {
      "cell_type": "code",
      "execution_count": 94,
      "metadata": {
        "id": "6-Fc6WYPsQri",
        "outputId": "a5ca1f1c-9c63-4641-fba5-8e8d4388a9e4"
      },
      "outputs": [
        {
          "data": {
            "image/png": "[encoded data removed]",
            "text/plain": [
              "<Figure size 1500x1000 with 1 Axes>"
            ]
          },
          "metadata": {},
          "output_type": "display_data"
        }
      ],
      "source": [
        "plt.figure(figsize=(15, 10))\n",
        "\n",
        "# Use keyword arguments for x and y\n",
        "plot = sns.scatterplot(x=y_test, y=preds_rf_test)\n",
        "\n",
        "# Set the title and labels\n",
        "plot.set(title='Actual vs. Predicted Price',\n",
        "         xlabel='Actual Price',\n",
        "         ylabel='Predicted Price')\n",
        "\n",
        "# Add a 45-degree line for reference (where actual = predicted)\n",
        "max_value = max(y_test.max(), preds_rf_test.max())\n",
        "plt.plot([0, max_value], [0, max_value], color='red', linestyle='--')\n",
        "\n",
        "plt.show()"
      ]
    },
    {
      "cell_type": "markdown",
      "metadata": {
        "id": "STYoRorisQri"
      },
      "source": [
        "By this Scatter Plot, we can see that our model might be linear to Actual Price (from what we Predicted). But when the Price more than 100000, this plot comes more irregular. We can see that sometime we had a high-predicted price and sometime low after 100000."
      ]
    },
    {
      "cell_type": "markdown",
      "metadata": {
        "id": "YIxkMY6OsQrj"
      },
      "source": [
        "**Feature Importances**\n",
        "\n",
        "Hereby we will see what is the most important feature that influence the price :"
      ]
    },
    {
      "cell_type": "code",
      "execution_count": 95,
      "metadata": {
        "id": "d_Res64JsQrj",
        "outputId": "babe3ebd-8cb9-4860-8b9f-9a493a8fa92d"
      },
      "outputs": [
        {
          "data": {
            "text/html": [
              "<div>\n",
              "<style scoped>\n",
              "    .dataframe tbody tr th:only-of-type {\n",
              "        vertical-align: middle;\n",
              "    }\n",
              "\n",
              "    .dataframe tbody tr th {\n",
              "        vertical-align: top;\n",
              "    }\n",
              "\n",
              "    .dataframe thead th {\n",
              "        text-align: right;\n",
              "    }\n",
              "</style>\n",
              "<table border=\"1\" class=\"dataframe\">\n",
              "  <thead>\n",
              "    <tr style=\"text-align: right;\">\n",
              "      <th></th>\n",
              "      <th>Importance</th>\n",
              "    </tr>\n",
              "    <tr>\n",
              "      <th>Feature</th>\n",
              "      <th></th>\n",
              "    </tr>\n",
              "  </thead>\n",
              "  <tbody>\n",
              "    <tr>\n",
              "      <th>Year</th>\n",
              "      <td>0.812223</td>\n",
              "    </tr>\n",
              "    <tr>\n",
              "      <th>Engine_Size</th>\n",
              "      <td>0.614079</td>\n",
              "    </tr>\n",
              "    <tr>\n",
              "      <th>Make_Mercedes</th>\n",
              "      <td>0.230138</td>\n",
              "    </tr>\n",
              "    <tr>\n",
              "      <th>Options_Full</th>\n",
              "      <td>0.154894</td>\n",
              "    </tr>\n",
              "    <tr>\n",
              "      <th>Mileage</th>\n",
              "      <td>0.110194</td>\n",
              "    </tr>\n",
              "  </tbody>\n",
              "</table>\n",
              "</div>"
            ],
            "text/plain": [
              "               Importance\n",
              "Feature                  \n",
              "Year             0.812223\n",
              "Engine_Size      0.614079\n",
              "Make_Mercedes    0.230138\n",
              "Options_Full     0.154894\n",
              "Mileage          0.110194"
            ]
          },
          "execution_count": 95,
          "metadata": {},
          "output_type": "execute_result"
        }
      ],
      "source": [
        "from sklearn.metrics import r2_score\n",
        "from rfpimp import permutation_importances\n",
        "\n",
        "def r2(rf, X_train, y_train):\n",
        "    return r2_score(y_train, rf.predict(X_train))\n",
        "\n",
        "perm_imp_rfpimp = permutation_importances(rf, X_train, y_train, r2)\n",
        "perm_imp_rfpimp.head(5)"
      ]
    },
    {
      "cell_type": "markdown",
      "metadata": {},
      "source": [
        "## Feature Importance Analysis\n",
        "\n",
        "1. **Year (0.728232)**:\n",
        "   - The **Year** of the vehicle has the highest importance score, suggesting it is a strong predictor of the price. This makes sense, as newer vehicles tend to have higher resale values due to features, technology, and demand.\n",
        "   - This feature should be closely monitored and potentially used in any further modeling or analysis, as its high importance indicates that it plays a significant role in predicting the outcome.\n",
        "\n",
        "2. **Engine Size (0.671629)**:\n",
        "   - **Engine Size** is also highly important, ranking second. Typically, larger engines are associated with higher performance vehicles, which can drive up the price.\n",
        "   - This suggests that buyers may be willing to pay more for vehicles with larger engines, as they often come with more features or are seen as higher quality.\n",
        "\n",
        "3. **Make_Mercedes (0.263345)**:\n",
        "   - The feature indicating whether the vehicle is a **Mercedes** has a moderate importance score. This indicates that brand reputation plays a role in price, aligning with common consumer behavior where luxury brands like Mercedes typically command higher prices.\n",
        "   - It may be beneficial to analyze other brand-related features as well to see if they also significantly influence prices.\n",
        "\n",
        "4. **Options_Full (0.175428)**:\n",
        "   - The presence of **full options** has a relatively lower importance score. While it does contribute to the price, its impact is not as strong as the first three features.\n",
        "   - This suggests that while optional features add value, they are likely not the primary drivers of price compared to the basic attributes like year and engine size.\n",
        "\n",
        "5. **Mileage (0.113774)**:\n",
        "   - **Mileage** has the lowest importance score among the features listed. Generally, lower mileage is associated with higher prices; however, this feature's contribution appears limited in this model.\n",
        "   - This could imply that in your dataset, the year and engine size overshadow the impact of mileage, or it could suggest that the mileage might not be a differentiating factor for the price in your dataset.\n",
        "\n",
        "## Summary\n",
        "- The analysis shows that the **Year** and **Engine Size** are the most critical predictors for vehicle prices, with significant influence over the model's predictions.\n",
        "- **Brand** and **Options** contribute positively but to a lesser extent, while **Mileage** appears to have minimal influence on price prediction in this context.\n",
        "- This insight can guide further feature engineering, model adjustments, or prioritization in data collection for more accurate predictions.\n",
        "\n",
        "## Recommendations\n",
        "1. **Focus on Year and Engine Size**: Given their high importance, these features should be preserved and possibly further explored for interactions or transformations.\n",
        "2. **Explore Other Brands**: Investigating the importance of other brands could provide more insights and improve model accuracy.\n",
        "3. **Consider Additional Features**: If mileage has a minor role, consider whether other features (such as condition, service history, etc.) could be included in the model for potentially better predictions.\n"
      ]
    },
    {
      "cell_type": "markdown",
      "metadata": {
        "id": "Ajji6OUNx6EW"
      },
      "source": [
        "---"
      ]
    },
    {
      "cell_type": "markdown",
      "metadata": {
        "id": "djo_U7mpx6EW"
      },
      "source": [
        "## 4. Conclusion"
      ]
    },
    {
      "cell_type": "markdown",
      "metadata": {
        "id": "joXScY8Sx6EX"
      },
      "source": [
        "In this project, we developed a predictive model for the prices of used cars, focusing on a price range of Rp 45,177,000 to Rp 759,795,000. The model serves as a valuable tool for both companies and individuals involved in buying and selling used cars, providing support in determining fair pricing.\n",
        "\n",
        "The evaluation of five regression models revealed that **Random Forest Regressor** and **XGBoost Regressor** were the top performers. These models achieved the lowest error metrics, with Mean Absolute Percentage Errors (MAPE) of approximately **23.28%** and **23.14%**, respectively. This means that, on average, the predicted prices deviate by about 23.3% from the actual prices, providing a reasonable level of accuracy for pricing predictions.\n",
        "\n",
        "The feature importance analysis highlighted that **Year**, **Engine Size**, and **Make** significantly influenced price predictions. In particular, the Year of the vehicle was the most critical factor, suggesting that newer cars tend to retain higher value.\n",
        "\n",
        "Despite the reasonable performance of the models, there are indications that further improvements can be made. The presence of outliers and potential non-linear relationships in the data may affect prediction accuracy, particularly at higher price levels. Additional feature engineering, model tuning, and the incorporation of domain knowledge about cars could enhance the model's robustness.\n",
        "\n",
        "Overall, while the current model demonstrates a good foundation for price prediction, there remains an opportunity for refinement and further exploration of the features and algorithms used. This will ensure more precise predictions and facilitate better decision-making in the used car market.\n"
      ]
    },
    {
      "cell_type": "markdown",
      "metadata": {
        "id": "923vfK110IUG"
      },
      "source": [
        "\n",
        "\n",
        "---\n",
        "\n"
      ]
    },
    {
      "cell_type": "markdown",
      "metadata": {
        "id": "xjwVhMhu0Ele"
      },
      "source": [
        "## 5. Impact to Business"
      ]
    },
    {
      "cell_type": "markdown",
      "metadata": {
        "id": "Z90NloWM0KgG"
      },
      "source": [
        "The average market price for cars --> **`Rp. 324,468,757.4`** (Exchange rate **13 Sep** IDR to USD)\n",
        "\n",
        "Assuming the appraisal cost for a car when selling **`$250`** or **`Rp 3,575,000`** (Exchange rate **13 Sep** USD to IDR)   --> **[Source](https://www.autoappraisal.com/how-much-does-a-car-appraisal-cost/)**\n",
        "\n",
        "Let’s assume the subscription fee for sellers listing their cars on the platform **`$49`** or **`Rp 683,000`** --> **[Source](https://www.autoappraisal.com/how-much-does-a-car-appraisal-cost/)**\n",
        "\n",
        "Additionally, incorporating a prediction feature is expected to increase the subscription fee by `60%` from the original amount --> **[Source](https://userpilot.com/blog/willingness-to-pay/)**\n",
        "The Mean Absolute Percentage Error (MAPE) of the model --> **`0.2328 / 23.28%.`**"
      ]
    },
    {
      "cell_type": "markdown",
      "metadata": {
        "id": "65LHmwNY0O0l"
      },
      "source": [
        "This analysis evaluates the impact of using a price prediction model on three key stakeholders: the company, sellers, and buyers. We compare two scenarios: **without the model** and **with the model**.\n",
        "\n",
        "1. **Without the model**: This is the baseline where we assume no predict are made and the company experiences stagnant subscription revenue, sellers have to hire appraisers which adds to costs, and buyers are uncertain about fairness of pricing without clear standards.\n",
        "\n",
        "2. **With the model**: This includes costs associated with errors made by the model, the company increases value for sellers who receive efficiencies despite increased subscription costs, while buyers feel more comfortable with transparent and fair pricing.\n",
        "\n",
        "## Cost Analysis\n",
        "\n",
        "### Costs Without the Model\n",
        "\n",
        "In this scenario, we assume that the company does not utilize a prediction model, resulting in stagnant subscription revenue. Sellers must hire appraisers, while buyers face uncertainty regarding price fairness without a clear standard.\n",
        "\n",
        "- **Company**:  \n",
        "  Subscription fee per seller: **Rp 683,000 / seller**\n",
        "\n",
        "- **Sellers**:  \n",
        "  Cost to hire an appraiser per car: **Rp 3,575,000 / car**\n",
        "\n",
        "- **Buyers**:  \n",
        "  Average market price for cars: **Rp. 324,468,757.4**\n",
        "\n",
        "**Total Cost Without the Model**: \n",
        "\\[\n",
        "(683,000 - 3,575,000 + 324,468,757.4) = \\Rp. 321,576,757.4\n",
        "\\]\n",
        "\n",
        "### Costs With the Model (MAPE)\n",
        "\n",
        "In this scenario, the company increases the subscription fee by **60%** due to the additional feature of price prediction. Sellers **no longer need** to hire appraisers, and buyers benefit from the model with a Mean Absolute Percentage Error (MAPE) of **23.28%**.\n",
        "\n",
        "- **Company**:  \n",
        "  Subscription fee per seller: \n",
        "  \\[\n",
        "  683,000 + (683,000 * 0.6) = \\Rp. 1,092,800 / seller\n",
        "  \\]\n",
        "\n",
        "- **Sellers**:  \n",
        "  Cost to hire an appraiser per car: **Rp 0 / car**\n",
        "\n",
        "- **Buyers**:  \n",
        "  Price efficiency is calculated as: \n",
        "  \\[ Average market * MAPE Value = 324,468,757.4 * 0.2328 = \\Rp. 75,536,326.7\n",
        "  \\]\n",
        "\n",
        "  Price received by buyers:\n",
        "  \\[\n",
        "  324,468,757.4 - 75,536,326.7 = \\Rp. 248,932,430.6\n",
        "  \\]\n",
        "\n",
        "**Total Cost With the Model**: \n",
        "\\[\n",
        "(1,092,800 - 0 + 248,932,430.6) = \\Rp. 250,025,230.6\n",
        "\\]\n",
        "\n",
        "### Total Savings\n",
        "\n",
        "Total savings from implementing the prediction model is:\n",
        "\\[\n",
        "321,576,757.4 - 250,025,230.6 = Rp. 71,551,526.7\n",
        "\\]\n",
        "\n",
        "\n",
        "**Impact to Business:**\n",
        "\n",
        "**- `Company:` Can increase subscription revenue to Rp 683,000 per seller, creating added value through the price prediction feature.**\n",
        "\n",
        "**- `Seller:` Can save up to Rp 3,575,000 per car by eliminating the need for appraisers, thanks to the efficiency provided by the prediction model.**\n",
        "\n",
        "**- `Buyer:` Receive fairer prices, with a price efficiency of approximately Rp. 75,536,326.7, enhancing satisfaction and trust in transactions.**"
      ]
    },
    {
      "cell_type": "markdown",
      "metadata": {
        "id": "w20NuJfKx6EX"
      },
      "source": [
        "---"
      ]
    },
    {
      "cell_type": "markdown",
      "metadata": {
        "id": "izUbkRWPx6EX"
      },
      "source": [
        "## 6. Recommendation"
      ]
    },
    {
      "cell_type": "markdown",
      "metadata": {
        "id": "RwsNvLVyx6EX"
      },
      "source": [
        "Things that can be done to develop the model to be more better :\n",
        "\n",
        "1. Make a transform for categorical variables :\n",
        "    - `Type` : since Type had so many unique value and not a sequentially number, we will use `Binary Encoder`\n",
        "    - `Region` : since Region had so many unique value and not a sequentially number, we will use `Binary Encoder`\n",
        "    - `Make` : since Region had so many unique value and not a sequentially number, we will use `Binary Encoder`\n",
        "    - `Gear_Type` : since the Gear_Type had a few of unique value, it can be handled by `One Hot Encoder`\n",
        "    - `Origin` : since the Gear_Type had a few of unique value, it can be handled by `One Hot Encoder`\n",
        "    - `Options` : since the Gear_Type had a few of unique value, it can be handled by `One Hot Encoder`\n",
        "\n",
        "this might be boost our model, but things like region & origin might be not so influence the car price\n",
        "\n",
        "2. As we know, a car might be influence by color & kind (SUV, Sedan etc) of car  as the preliminary of someone to buy. This  corelative variables definitely could be improving the model prediction.\n",
        "\n",
        "\n",
        "3. Our model can be be used for other expansion similar models. Such as to made an update listing price used cars from another country. Or to made a review of Used Cars on Saudi Arabia itself. By the review we can see either worth or not worth to buy the used car itself. This review might be improving the model prediction.\n",
        "\n",
        "4. Added a feature that categorizes classic or ordinary cars. This is because the price for mileage and years in both categories is inversely proportional. For example, a 1968 car will be more expensive than a 2002 car. This difference can affect the model significantly.\n",
        "\n",
        "5. We can look for the highest error value by grouping it into 3 parts, namely overestimation (5%), underestimation (5%), and the majority group whose error is close to the mean value (90%). After that, we can check the relationship between the error and each independent variable. So we can carry out retraining and avoid variables that produce high errors.\n",
        "\n",
        "6. If you add a lot of data, you can try using a more complex model, such as recursive neural networks (RNN). However, if the amount of data and features are still like this dataset, it will most likely not change the results significantly."
      ]
    },
    {
      "cell_type": "markdown",
      "metadata": {
        "id": "2NPBPZtTx6EY"
      },
      "source": [
        "---"
      ]
    }
  ],
  "metadata": {
    "colab": {
      "provenance": []
    },
    "kernelspec": {
      "display_name": "Python 3 (ipykernel)",
      "language": "python",
      "name": "python3"
    },
    "language_info": {
      "codemirror_mode": {
        "name": "ipython",
        "version": 3
      },
      "file_extension": ".py",
      "mimetype": "text/x-python",
      "name": "python",
      "nbconvert_exporter": "python",
      "pygments_lexer": "ipython3",
      "version": "3.12.3"
    }
  },
  "nbformat": 4,
  "nbformat_minor": 0
}
